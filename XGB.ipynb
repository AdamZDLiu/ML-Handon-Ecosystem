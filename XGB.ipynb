{
 "cells": [
  {
   "cell_type": "code",
   "execution_count": null,
   "id": "b1a701c4-efbb-4319-a272-785c509533ae",
   "metadata": {},
   "outputs": [],
   "source": [
    "import pandas as pd"
   ]
  },
  {
   "cell_type": "code",
   "execution_count": 30,
   "id": "5a04edcf-a817-4058-a129-5e3d61d42540",
   "metadata": {
    "tags": []
   },
   "outputs": [
    {
     "name": "stderr",
     "output_type": "stream",
     "text": [
      "/tmp/ipykernel_1071276/3671086491.py:1: DtypeWarning: Columns (23,24,33,35,39,40,41,42,43,44,45,46,47,48,49,58) have mixed types. Specify dtype option on import or set low_memory=False.\n",
      "  merged2=pd.read_csv('/lustre/scratch126/cellgen/team298/ab72/accelerate/WATER_METADATA_PHYTOPLANKTON.csv')\n"
     ]
    }
   ],
   "source": [
    "merged2=pd.read_csv('/lustre/scratch126/cellgen/team298/ab72/accelerate/WATER_METADATA_PHYTOPLANKTON.csv')"
   ]
  },
  {
   "cell_type": "code",
   "execution_count": 31,
   "id": "020edc54-6549-4c0f-a0c0-b477d3e939ee",
   "metadata": {
    "tags": []
   },
   "outputs": [
    {
     "name": "stdout",
     "output_type": "stream",
     "text": [
      "    siteid                                    sitename country        seaname  \\\n",
      "0  E-A10HS  Ondarroa (Embarcadero). High Tide. Surface      ES  Bay of Biscay   \n",
      "1  E-A10HS  Ondarroa (Embarcadero). High Tide. Surface      ES  Bay of Biscay   \n",
      "2  E-A10HS  Ondarroa (Embarcadero). High Tide. Surface      ES  Bay of Biscay   \n",
      "3  E-A10HS  Ondarroa (Embarcadero). High Tide. Surface      ES  Bay of Biscay   \n",
      "4  E-A10HS  Ondarroa (Embarcadero). High Tide. Surface      ES  Bay of Biscay   \n",
      "\n",
      "   decimallatitude  decimallongitude datecollected  Temperature    pH  \\\n",
      "0        43.319883         -2.420973    2002-04-24         16.5  8.34   \n",
      "1        43.319883         -2.420973    2002-04-24         16.5  8.34   \n",
      "2        43.319883         -2.420973    2002-04-24         16.5  8.34   \n",
      "3        43.319883         -2.420973    2002-04-24         16.5  8.34   \n",
      "4        43.319883         -2.420973    2002-04-24         16.5  8.34   \n",
      "\n",
      "   Dissolved oxygen  ...        sampleid   basisofrecord  \\\n",
      "0             8.294  ...  E-A10_20020424  MaterialSample   \n",
      "1             8.294  ...  E-A10_20020424  MaterialSample   \n",
      "2             8.294  ...  E-A10_20020424  MaterialSample   \n",
      "3             8.294  ...  E-A10_20020424  MaterialSample   \n",
      "4             8.294  ...  E-A10_20020424  MaterialSample   \n",
      "\n",
      "   minimumdepthinmeters maximumdepthinmeters                 taxaname  \\\n",
      "0                     0                  0.5      Chaetoceros danicus   \n",
      "1                     0                  0.5  Chaetoceros salsugineum   \n",
      "2                     0                  0.5             Eutreptiella   \n",
      "3                     0                  0.5      Gyrodinium dominans   \n",
      "4                     0                  0.5           Leptocylindrus   \n",
      "\n",
      "  taxanameid samplingeffort  parameter parameter_value parameter_standardunit  \n",
      "0     149120         125 ml  Abundance            0.02                 cel/ml  \n",
      "1     621740         125 ml  Abundance            1.72                 cel/ml  \n",
      "2      17657         125 ml  Abundance            6.40                 cel/ml  \n",
      "3     109851         125 ml  Abundance            0.02                 cel/ml  \n",
      "4     149038         125 ml  Abundance            0.32                 cel/ml  \n",
      "\n",
      "[5 rows x 70 columns]\n"
     ]
    }
   ],
   "source": [
    "subset_pandas = merged2[merged2[\"siteid\"] == \"E-A10HS\"]\n",
    "\n",
    "# 📌 Display the subset\n",
    "print(subset_pandas.head())"
   ]
  },
  {
   "cell_type": "code",
   "execution_count": 45,
   "id": "e6176ff5-d8f0-4f83-9035-d5b9859980e0",
   "metadata": {
    "tags": []
   },
   "outputs": [],
   "source": [
    "# 📌 Count occurrences of each species\n",
    "species_counts = df_merged[\"taxaname_encoded\"].value_counts()\n",
    "\n",
    "# 📌 Keep only species that appear at least twice\n",
    "valid_species = species_counts[species_counts >= 2].index\n",
    "df_filtered = df_merged[df_merged[\"taxaname_encoded\"].isin(valid_species)]\n",
    "\n",
    "# 📌 Train-Test Split (Now Without Rare Species)\n",
    "X_train, X_test, y_train, y_test = train_test_split(\n",
    "    df_filtered[[\"Temperature\", \"pH\", \"Dissolved oxygen\", \"Salinity\", \"taxaname_encoded\"]],\n",
    "    df_filtered[\"parameter_value\"],\n",
    "    test_size=0.2,\n",
    "    random_state=42,\n",
    "    stratify=df_filtered[\"taxaname_encoded\"]  # No more single-instance classes\n",
    ")\n"
   ]
  },
  {
   "cell_type": "code",
   "execution_count": 62,
   "id": "ca72e08e-f659-4135-b6f4-23d5b2b6d21d",
   "metadata": {
    "tags": []
   },
   "outputs": [
    {
     "name": "stdout",
     "output_type": "stream",
     "text": [
      "XGBoost RMSE: 93.41096603737553\n"
     ]
    }
   ],
   "source": [
    "xgb_model = XGBRegressor(n_estimators=200, learning_rate=0.001, max_depth=4)\n",
    "xgb_model.fit(X_train, y_train)\n",
    "\n",
    "# 📌 Predict and Evaluate\n",
    "y_pred = xgb_model.predict(X_test)\n",
    "rmse = mean_squared_error(y_test, y_pred, squared=False)\n",
    "\n",
    "print(f\"XGBoost RMSE: {rmse}\")\n"
   ]
  },
  {
   "cell_type": "code",
   "execution_count": null,
   "id": "75e849fe-e44b-4c7f-b007-9ddcec24b0aa",
   "metadata": {},
   "outputs": [],
   "source": []
  },
  {
   "cell_type": "code",
   "execution_count": 63,
   "id": "e92b45c7-7cfc-41cc-b6f2-f6d95e51a2fa",
   "metadata": {
    "tags": []
   },
   "outputs": [],
   "source": [
    "# 📌 Count occurrences of each species\n",
    "species_counts = df_merged[\"taxaname_encoded\"].value_counts()\n",
    "\n",
    "# 📌 Keep only species that appear at least twice\n",
    "valid_species = species_counts[species_counts >= 2].index\n",
    "df_filtered = df_merged[df_merged[\"taxaname_encoded\"].isin(valid_species)]\n",
    "\n",
    "# 📌 Train-Test Split (Now Without Rare Species)\n",
    "X_train, X_test, y_train, y_test = train_test_split(\n",
    "    df_filtered[[\"Temperature\", \"pH\", \"taxaname_encoded\"]],\n",
    "    df_filtered[\"parameter_value\"],\n",
    "    test_size=0.2,\n",
    "    random_state=42,\n",
    "    stratify=df_filtered[\"taxaname_encoded\"]  # No more single-instance classes\n",
    ")\n"
   ]
  },
  {
   "cell_type": "code",
   "execution_count": 70,
   "id": "179a186c-fff1-4242-945e-6a95844a2f9c",
   "metadata": {
    "tags": []
   },
   "outputs": [
    {
     "name": "stdout",
     "output_type": "stream",
     "text": [
      "XGBoost RMSE: 91.93471793510099\n"
     ]
    }
   ],
   "source": [
    "xgb_model = XGBRegressor(n_estimators=100, learning_rate=0.0001, max_depth=3)\n",
    "xgb_model.fit(X_train, y_train)\n",
    "\n",
    "#  Predict and Evaluate\n",
    "y_pred = xgb_model.predict(X_test)\n",
    "rmse = mean_squared_error(y_test, y_pred, squared=False)\n",
    "\n",
    "print(f\"XGBoost RMSE: {rmse}\")\n"
   ]
  },
  {
   "cell_type": "code",
   "execution_count": 73,
   "id": "e311bf5a-0101-4b14-a2ff-023f22af6695",
   "metadata": {
    "tags": []
   },
   "outputs": [
    {
     "data": {
      "text/plain": [
       "array([68.43595 , 68.43595 , 68.732   , 68.732   , 68.732   , 68.732   ,\n",
       "       68.732   , 68.732   , 68.43595 , 68.43595 , 68.43595 , 68.732   ,\n",
       "       68.43595 , 68.43595 , 68.54602 , 68.43595 , 68.43595 , 68.83685 ,\n",
       "       68.43595 , 68.54602 , 68.732   , 68.43595 , 68.43595 , 68.43595 ,\n",
       "       68.43595 , 68.43595 , 68.43595 , 68.43595 , 68.732   , 68.43595 ,\n",
       "       68.732   , 68.43595 , 73.669235, 68.43595 , 68.732   , 68.43595 ,\n",
       "       68.732   , 68.54602 , 68.732   , 68.43595 , 68.43595 , 68.732   ,\n",
       "       68.732   , 68.83685 , 68.43595 , 68.43595 , 68.43595 , 68.732   ,\n",
       "       68.43595 , 73.669235, 68.54602 , 68.43595 , 68.43595 , 68.83685 ,\n",
       "       68.732   , 68.732   , 68.43595 , 68.83685 , 68.43595 , 73.669235,\n",
       "       68.83685 , 68.54602 , 68.43595 , 68.43595 , 68.43595 , 68.54602 ,\n",
       "       68.43595 , 68.732   , 68.43595 , 68.732   , 68.43595 , 68.732   ,\n",
       "       68.83685 , 68.54602 , 68.54602 , 68.43595 , 68.43595 , 68.54602 ,\n",
       "       68.732   , 68.43595 , 68.732   , 68.43595 , 68.732   , 68.43595 ,\n",
       "       68.732   , 68.43595 , 68.43595 , 68.83685 , 68.43595 , 68.54602 ,\n",
       "       68.43595 , 68.54602 , 68.54602 , 68.732   , 68.43595 , 68.43595 ,\n",
       "       68.732   , 68.43595 , 68.43595 , 68.43595 , 68.43595 , 68.732   ,\n",
       "       68.340294, 68.43595 , 68.43595 , 68.43595 , 68.732   , 68.732   ,\n",
       "       68.732   , 68.43595 , 68.43595 , 73.669235, 68.732   , 68.732   ,\n",
       "       68.83685 , 68.732   , 68.43595 , 68.54602 , 68.43595 , 68.340294,\n",
       "       68.43595 , 68.732   , 68.43595 , 68.732   , 68.43595 , 68.83685 ,\n",
       "       68.43595 , 68.43595 , 68.43595 , 68.732   , 68.43595 , 68.43595 ,\n",
       "       68.43595 , 68.43595 ], dtype=float32)"
      ]
     },
     "execution_count": 73,
     "metadata": {},
     "output_type": "execute_result"
    }
   ],
   "source": [
    "y_pred"
   ]
  },
  {
   "cell_type": "code",
   "execution_count": 72,
   "id": "5838af16-8325-47d2-a296-4466b40575f7",
   "metadata": {
    "tags": []
   },
   "outputs": [
    {
     "ename": "AttributeError",
     "evalue": "'numpy.ndarray' object has no attribute 'score'",
     "output_type": "error",
     "traceback": [
      "\u001b[0;31m---------------------------------------------------------------------------\u001b[0m",
      "\u001b[0;31mAttributeError\u001b[0m                            Traceback (most recent call last)",
      "Cell \u001b[0;32mIn[72], line 1\u001b[0m\n\u001b[0;32m----> 1\u001b[0m \u001b[43my_pred\u001b[49m\u001b[38;5;241;43m.\u001b[39;49m\u001b[43mscore\u001b[49m(X_test,y_test)\n",
      "\u001b[0;31mAttributeError\u001b[0m: 'numpy.ndarray' object has no attribute 'score'"
     ]
    }
   ],
   "source": [
    "y_pred.score(X_test,y_test)"
   ]
  },
  {
   "cell_type": "code",
   "execution_count": null,
   "id": "490afe09-99ca-4d07-84fb-11594188f87d",
   "metadata": {},
   "outputs": [],
   "source": []
  }
 ],
 "metadata": {
  "kernelspec": {
   "display_name": "“d2s2”",
   "language": "python",
   "name": "d2s2"
  },
  "language_info": {
   "codemirror_mode": {
    "name": "ipython",
    "version": 3
   },
   "file_extension": ".py",
   "mimetype": "text/x-python",
   "name": "python",
   "nbconvert_exporter": "python",
   "pygments_lexer": "ipython3",
   "version": "3.11.3"
  }
 },
 "nbformat": 4,
 "nbformat_minor": 5
}
