{
 "cells": [
  {
   "cell_type": "code",
   "execution_count": 2,
   "id": "b1a701c4-efbb-4319-a272-785c509533ae",
   "metadata": {
    "tags": []
   },
   "outputs": [],
   "source": [
    "import pandas as pd"
   ]
  },
  {
   "cell_type": "code",
   "execution_count": 3,
   "id": "5a04edcf-a817-4058-a129-5e3d61d42540",
   "metadata": {
    "tags": []
   },
   "outputs": [
    {
     "name": "stderr",
     "output_type": "stream",
     "text": [
      "/tmp/ipykernel_1101469/3671086491.py:1: DtypeWarning: Columns (23,24,33,35,39,40,41,42,43,44,45,46,47,48,49,58) have mixed types. Specify dtype option on import or set low_memory=False.\n",
      "  merged2=pd.read_csv('/lustre/scratch126/cellgen/team298/ab72/accelerate/WATER_METADATA_PHYTOPLANKTON.csv')\n"
     ]
    }
   ],
   "source": [
    "merged2=pd.read_csv('/lustre/scratch126/cellgen/team298/ab72/accelerate/WATER_METADATA_PHYTOPLANKTON.csv')"
   ]
  },
  {
   "cell_type": "code",
   "execution_count": 4,
   "id": "020edc54-6549-4c0f-a0c0-b477d3e939ee",
   "metadata": {
    "tags": []
   },
   "outputs": [
    {
     "name": "stdout",
     "output_type": "stream",
     "text": [
      "    siteid                                    sitename country        seaname  \\\n",
      "0  E-A10HS  Ondarroa (Embarcadero). High Tide. Surface      ES  Bay of Biscay   \n",
      "1  E-A10HS  Ondarroa (Embarcadero). High Tide. Surface      ES  Bay of Biscay   \n",
      "2  E-A10HS  Ondarroa (Embarcadero). High Tide. Surface      ES  Bay of Biscay   \n",
      "3  E-A10HS  Ondarroa (Embarcadero). High Tide. Surface      ES  Bay of Biscay   \n",
      "4  E-A10HS  Ondarroa (Embarcadero). High Tide. Surface      ES  Bay of Biscay   \n",
      "\n",
      "   decimallatitude  decimallongitude datecollected  Temperature    pH  \\\n",
      "0        43.319883         -2.420973    2002-04-24         16.5  8.34   \n",
      "1        43.319883         -2.420973    2002-04-24         16.5  8.34   \n",
      "2        43.319883         -2.420973    2002-04-24         16.5  8.34   \n",
      "3        43.319883         -2.420973    2002-04-24         16.5  8.34   \n",
      "4        43.319883         -2.420973    2002-04-24         16.5  8.34   \n",
      "\n",
      "   Dissolved oxygen  ...        sampleid   basisofrecord  \\\n",
      "0             8.294  ...  E-A10_20020424  MaterialSample   \n",
      "1             8.294  ...  E-A10_20020424  MaterialSample   \n",
      "2             8.294  ...  E-A10_20020424  MaterialSample   \n",
      "3             8.294  ...  E-A10_20020424  MaterialSample   \n",
      "4             8.294  ...  E-A10_20020424  MaterialSample   \n",
      "\n",
      "   minimumdepthinmeters maximumdepthinmeters                 taxaname  \\\n",
      "0                     0                  0.5      Chaetoceros danicus   \n",
      "1                     0                  0.5  Chaetoceros salsugineum   \n",
      "2                     0                  0.5             Eutreptiella   \n",
      "3                     0                  0.5      Gyrodinium dominans   \n",
      "4                     0                  0.5           Leptocylindrus   \n",
      "\n",
      "  taxanameid samplingeffort  parameter parameter_value parameter_standardunit  \n",
      "0     149120         125 ml  Abundance            0.02                 cel/ml  \n",
      "1     621740         125 ml  Abundance            1.72                 cel/ml  \n",
      "2      17657         125 ml  Abundance            6.40                 cel/ml  \n",
      "3     109851         125 ml  Abundance            0.02                 cel/ml  \n",
      "4     149038         125 ml  Abundance            0.32                 cel/ml  \n",
      "\n",
      "[5 rows x 70 columns]\n"
     ]
    }
   ],
   "source": [
    "subset_pandas = merged2[merged2[\"siteid\"] == \"E-A10HS\"]\n",
    "\n",
    "#  Display the subset\n",
    "print(subset_pandas.head())"
   ]
  },
  {
   "cell_type": "code",
   "execution_count": 7,
   "id": "c41d49f0-a632-4979-8c50-ba7016eff656",
   "metadata": {
    "tags": []
   },
   "outputs": [
    {
     "ename": "ValueError",
     "evalue": "The least populated class in y has only 1 member, which is too few. The minimum number of groups for any class cannot be less than 2.",
     "output_type": "error",
     "traceback": [
      "\u001b[0;31m---------------------------------------------------------------------------\u001b[0m",
      "\u001b[0;31mValueError\u001b[0m                                Traceback (most recent call last)",
      "Cell \u001b[0;32mIn[7], line 24\u001b[0m\n\u001b[1;32m     21\u001b[0m y \u001b[38;5;241m=\u001b[39m df_merged[\u001b[38;5;124m\"\u001b[39m\u001b[38;5;124mparameter_value\u001b[39m\u001b[38;5;124m\"\u001b[39m]\n\u001b[1;32m     23\u001b[0m \u001b[38;5;66;03m# 📌 Train-Test Split\u001b[39;00m\n\u001b[0;32m---> 24\u001b[0m X_train, X_test, y_train, y_test \u001b[38;5;241m=\u001b[39m \u001b[43mtrain_test_split\u001b[49m\u001b[43m(\u001b[49m\u001b[43mX\u001b[49m\u001b[43m,\u001b[49m\u001b[43m \u001b[49m\u001b[43my\u001b[49m\u001b[43m,\u001b[49m\u001b[43m \u001b[49m\u001b[43mtest_size\u001b[49m\u001b[38;5;241;43m=\u001b[39;49m\u001b[38;5;241;43m0.2\u001b[39;49m\u001b[43m,\u001b[49m\u001b[43m \u001b[49m\u001b[43mrandom_state\u001b[49m\u001b[38;5;241;43m=\u001b[39;49m\u001b[38;5;241;43m42\u001b[39;49m\u001b[43m,\u001b[49m\u001b[43m \u001b[49m\u001b[43mstratify\u001b[49m\u001b[38;5;241;43m=\u001b[39;49m\u001b[43mdf_merged\u001b[49m\u001b[43m[\u001b[49m\u001b[38;5;124;43m\"\u001b[39;49m\u001b[38;5;124;43mtaxaname_encoded\u001b[39;49m\u001b[38;5;124;43m\"\u001b[39;49m\u001b[43m]\u001b[49m\u001b[43m)\u001b[49m\n\u001b[1;32m     26\u001b[0m \u001b[38;5;66;03m# 📌 Train XGBoost Model\u001b[39;00m\n\u001b[1;32m     27\u001b[0m xgb_model \u001b[38;5;241m=\u001b[39m XGBRegressor(n_estimators\u001b[38;5;241m=\u001b[39m\u001b[38;5;241m100\u001b[39m, learning_rate\u001b[38;5;241m=\u001b[39m\u001b[38;5;241m0.1\u001b[39m, max_depth\u001b[38;5;241m=\u001b[39m\u001b[38;5;241m6\u001b[39m)\n",
      "File \u001b[0;32m/nfs/team298/ab72/miniconda3/lib/python3.11/site-packages/sklearn/utils/_param_validation.py:214\u001b[0m, in \u001b[0;36mvalidate_params.<locals>.decorator.<locals>.wrapper\u001b[0;34m(*args, **kwargs)\u001b[0m\n\u001b[1;32m    208\u001b[0m \u001b[38;5;28;01mtry\u001b[39;00m:\n\u001b[1;32m    209\u001b[0m     \u001b[38;5;28;01mwith\u001b[39;00m config_context(\n\u001b[1;32m    210\u001b[0m         skip_parameter_validation\u001b[38;5;241m=\u001b[39m(\n\u001b[1;32m    211\u001b[0m             prefer_skip_nested_validation \u001b[38;5;129;01mor\u001b[39;00m global_skip_validation\n\u001b[1;32m    212\u001b[0m         )\n\u001b[1;32m    213\u001b[0m     ):\n\u001b[0;32m--> 214\u001b[0m         \u001b[38;5;28;01mreturn\u001b[39;00m \u001b[43mfunc\u001b[49m\u001b[43m(\u001b[49m\u001b[38;5;241;43m*\u001b[39;49m\u001b[43margs\u001b[49m\u001b[43m,\u001b[49m\u001b[43m \u001b[49m\u001b[38;5;241;43m*\u001b[39;49m\u001b[38;5;241;43m*\u001b[39;49m\u001b[43mkwargs\u001b[49m\u001b[43m)\u001b[49m\n\u001b[1;32m    215\u001b[0m \u001b[38;5;28;01mexcept\u001b[39;00m InvalidParameterError \u001b[38;5;28;01mas\u001b[39;00m e:\n\u001b[1;32m    216\u001b[0m     \u001b[38;5;66;03m# When the function is just a wrapper around an estimator, we allow\u001b[39;00m\n\u001b[1;32m    217\u001b[0m     \u001b[38;5;66;03m# the function to delegate validation to the estimator, but we replace\u001b[39;00m\n\u001b[1;32m    218\u001b[0m     \u001b[38;5;66;03m# the name of the estimator by the name of the function in the error\u001b[39;00m\n\u001b[1;32m    219\u001b[0m     \u001b[38;5;66;03m# message to avoid confusion.\u001b[39;00m\n\u001b[1;32m    220\u001b[0m     msg \u001b[38;5;241m=\u001b[39m re\u001b[38;5;241m.\u001b[39msub(\n\u001b[1;32m    221\u001b[0m         \u001b[38;5;124mr\u001b[39m\u001b[38;5;124m\"\u001b[39m\u001b[38;5;124mparameter of \u001b[39m\u001b[38;5;124m\\\u001b[39m\u001b[38;5;124mw+ must be\u001b[39m\u001b[38;5;124m\"\u001b[39m,\n\u001b[1;32m    222\u001b[0m         \u001b[38;5;124mf\u001b[39m\u001b[38;5;124m\"\u001b[39m\u001b[38;5;124mparameter of \u001b[39m\u001b[38;5;132;01m{\u001b[39;00mfunc\u001b[38;5;241m.\u001b[39m\u001b[38;5;18m__qualname__\u001b[39m\u001b[38;5;132;01m}\u001b[39;00m\u001b[38;5;124m must be\u001b[39m\u001b[38;5;124m\"\u001b[39m,\n\u001b[1;32m    223\u001b[0m         \u001b[38;5;28mstr\u001b[39m(e),\n\u001b[1;32m    224\u001b[0m     )\n",
      "File \u001b[0;32m/nfs/team298/ab72/miniconda3/lib/python3.11/site-packages/sklearn/model_selection/_split.py:2670\u001b[0m, in \u001b[0;36mtrain_test_split\u001b[0;34m(test_size, train_size, random_state, shuffle, stratify, *arrays)\u001b[0m\n\u001b[1;32m   2666\u001b[0m         CVClass \u001b[38;5;241m=\u001b[39m ShuffleSplit\n\u001b[1;32m   2668\u001b[0m     cv \u001b[38;5;241m=\u001b[39m CVClass(test_size\u001b[38;5;241m=\u001b[39mn_test, train_size\u001b[38;5;241m=\u001b[39mn_train, random_state\u001b[38;5;241m=\u001b[39mrandom_state)\n\u001b[0;32m-> 2670\u001b[0m     train, test \u001b[38;5;241m=\u001b[39m \u001b[38;5;28;43mnext\u001b[39;49m\u001b[43m(\u001b[49m\u001b[43mcv\u001b[49m\u001b[38;5;241;43m.\u001b[39;49m\u001b[43msplit\u001b[49m\u001b[43m(\u001b[49m\u001b[43mX\u001b[49m\u001b[38;5;241;43m=\u001b[39;49m\u001b[43marrays\u001b[49m\u001b[43m[\u001b[49m\u001b[38;5;241;43m0\u001b[39;49m\u001b[43m]\u001b[49m\u001b[43m,\u001b[49m\u001b[43m \u001b[49m\u001b[43my\u001b[49m\u001b[38;5;241;43m=\u001b[39;49m\u001b[43mstratify\u001b[49m\u001b[43m)\u001b[49m\u001b[43m)\u001b[49m\n\u001b[1;32m   2672\u001b[0m \u001b[38;5;28;01mreturn\u001b[39;00m \u001b[38;5;28mlist\u001b[39m(\n\u001b[1;32m   2673\u001b[0m     chain\u001b[38;5;241m.\u001b[39mfrom_iterable(\n\u001b[1;32m   2674\u001b[0m         (_safe_indexing(a, train), _safe_indexing(a, test)) \u001b[38;5;28;01mfor\u001b[39;00m a \u001b[38;5;129;01min\u001b[39;00m arrays\n\u001b[1;32m   2675\u001b[0m     )\n\u001b[1;32m   2676\u001b[0m )\n",
      "File \u001b[0;32m/nfs/team298/ab72/miniconda3/lib/python3.11/site-packages/sklearn/model_selection/_split.py:1746\u001b[0m, in \u001b[0;36mBaseShuffleSplit.split\u001b[0;34m(self, X, y, groups)\u001b[0m\n\u001b[1;32m   1716\u001b[0m \u001b[38;5;250m\u001b[39m\u001b[38;5;124;03m\"\"\"Generate indices to split data into training and test set.\u001b[39;00m\n\u001b[1;32m   1717\u001b[0m \n\u001b[1;32m   1718\u001b[0m \u001b[38;5;124;03mParameters\u001b[39;00m\n\u001b[0;32m   (...)\u001b[0m\n\u001b[1;32m   1743\u001b[0m \u001b[38;5;124;03mto an integer.\u001b[39;00m\n\u001b[1;32m   1744\u001b[0m \u001b[38;5;124;03m\"\"\"\u001b[39;00m\n\u001b[1;32m   1745\u001b[0m X, y, groups \u001b[38;5;241m=\u001b[39m indexable(X, y, groups)\n\u001b[0;32m-> 1746\u001b[0m \u001b[43m\u001b[49m\u001b[38;5;28;43;01mfor\u001b[39;49;00m\u001b[43m \u001b[49m\u001b[43mtrain\u001b[49m\u001b[43m,\u001b[49m\u001b[43m \u001b[49m\u001b[43mtest\u001b[49m\u001b[43m \u001b[49m\u001b[38;5;129;43;01min\u001b[39;49;00m\u001b[43m \u001b[49m\u001b[38;5;28;43mself\u001b[39;49m\u001b[38;5;241;43m.\u001b[39;49m\u001b[43m_iter_indices\u001b[49m\u001b[43m(\u001b[49m\u001b[43mX\u001b[49m\u001b[43m,\u001b[49m\u001b[43m \u001b[49m\u001b[43my\u001b[49m\u001b[43m,\u001b[49m\u001b[43m \u001b[49m\u001b[43mgroups\u001b[49m\u001b[43m)\u001b[49m\u001b[43m:\u001b[49m\n\u001b[1;32m   1747\u001b[0m \u001b[43m    \u001b[49m\u001b[38;5;28;43;01myield\u001b[39;49;00m\u001b[43m \u001b[49m\u001b[43mtrain\u001b[49m\u001b[43m,\u001b[49m\u001b[43m \u001b[49m\u001b[43mtest\u001b[49m\n",
      "File \u001b[0;32m/nfs/team298/ab72/miniconda3/lib/python3.11/site-packages/sklearn/model_selection/_split.py:2147\u001b[0m, in \u001b[0;36mStratifiedShuffleSplit._iter_indices\u001b[0;34m(self, X, y, groups)\u001b[0m\n\u001b[1;32m   2145\u001b[0m class_counts \u001b[38;5;241m=\u001b[39m np\u001b[38;5;241m.\u001b[39mbincount(y_indices)\n\u001b[1;32m   2146\u001b[0m \u001b[38;5;28;01mif\u001b[39;00m np\u001b[38;5;241m.\u001b[39mmin(class_counts) \u001b[38;5;241m<\u001b[39m \u001b[38;5;241m2\u001b[39m:\n\u001b[0;32m-> 2147\u001b[0m     \u001b[38;5;28;01mraise\u001b[39;00m \u001b[38;5;167;01mValueError\u001b[39;00m(\n\u001b[1;32m   2148\u001b[0m         \u001b[38;5;124m\"\u001b[39m\u001b[38;5;124mThe least populated class in y has only 1\u001b[39m\u001b[38;5;124m\"\u001b[39m\n\u001b[1;32m   2149\u001b[0m         \u001b[38;5;124m\"\u001b[39m\u001b[38;5;124m member, which is too few. The minimum\u001b[39m\u001b[38;5;124m\"\u001b[39m\n\u001b[1;32m   2150\u001b[0m         \u001b[38;5;124m\"\u001b[39m\u001b[38;5;124m number of groups for any class cannot\u001b[39m\u001b[38;5;124m\"\u001b[39m\n\u001b[1;32m   2151\u001b[0m         \u001b[38;5;124m\"\u001b[39m\u001b[38;5;124m be less than 2.\u001b[39m\u001b[38;5;124m\"\u001b[39m\n\u001b[1;32m   2152\u001b[0m     )\n\u001b[1;32m   2154\u001b[0m \u001b[38;5;28;01mif\u001b[39;00m n_train \u001b[38;5;241m<\u001b[39m n_classes:\n\u001b[1;32m   2155\u001b[0m     \u001b[38;5;28;01mraise\u001b[39;00m \u001b[38;5;167;01mValueError\u001b[39;00m(\n\u001b[1;32m   2156\u001b[0m         \u001b[38;5;124m\"\u001b[39m\u001b[38;5;124mThe train_size = \u001b[39m\u001b[38;5;132;01m%d\u001b[39;00m\u001b[38;5;124m should be greater or \u001b[39m\u001b[38;5;124m\"\u001b[39m\n\u001b[1;32m   2157\u001b[0m         \u001b[38;5;124m\"\u001b[39m\u001b[38;5;124mequal to the number of classes = \u001b[39m\u001b[38;5;132;01m%d\u001b[39;00m\u001b[38;5;124m\"\u001b[39m \u001b[38;5;241m%\u001b[39m (n_train, n_classes)\n\u001b[1;32m   2158\u001b[0m     )\n",
      "\u001b[0;31mValueError\u001b[0m: The least populated class in y has only 1 member, which is too few. The minimum number of groups for any class cannot be less than 2."
     ]
    }
   ],
   "source": [
    "from sklearn.model_selection import train_test_split\n",
    "from xgboost import XGBRegressor\n",
    "from sklearn.metrics import mean_squared_error\n",
    "from sklearn.preprocessing import LabelEncoder\n",
    "\n",
    "# 📌 Aggregate environmental factors per `sampleid`\n",
    "env_factors = subset_pandas.groupby(\"sampleid\")[[\"Temperature\", \"pH\", \"Dissolved oxygen\", \"Salinity\"]].mean().reset_index()\n",
    "\n",
    "# 📌 Drop duplicate environmental factor columns before merging\n",
    "subset_pandas_cleaned = subset_pandas.drop(columns=[\"Temperature\", \"pH\", \"Dissolved oxygen\", \"Salinity\"])\n",
    "\n",
    "# 📌 Merge cleaned data with environmental factors\n",
    "df_merged = subset_pandas_cleaned.merge(env_factors, on=\"sampleid\", how=\"left\")\n",
    "\n",
    "# 📌 Encode `taxaname` as a categorical feature\n",
    "le = LabelEncoder()\n",
    "df_merged[\"taxaname_encoded\"] = le.fit_transform(df_merged[\"taxaname\"])\n",
    "\n",
    "# 📌 Select features (Temperature, pH, etc.)\n",
    "X = df_merged[[\"Temperature\", \"pH\", \"Dissolved oxygen\", \"Salinity\", \"taxaname_encoded\"]]\n",
    "y = df_merged[\"parameter_value\"]\n",
    "\n",
    "# 📌 Train-Test Split\n",
    "X_train, X_test, y_train, y_test = train_test_split(X, y, test_size=0.2, random_state=42, stratify=df_merged[\"taxaname_encoded\"])\n",
    "\n",
    "# 📌 Train XGBoost Model\n",
    "xgb_model = XGBRegressor(n_estimators=100, learning_rate=0.1, max_depth=6)\n",
    "xgb_model.fit(X_train, y_train)\n",
    "\n",
    "# 📌 Predict and Evaluate\n",
    "y_pred = xgb_model.predict(X_test)\n",
    "rmse = mean_squared_error(y_test, y_pred, squared=False)\n",
    "\n",
    "print(f\"XGBoost RMSE: {rmse}\")\n"
   ]
  },
  {
   "cell_type": "code",
   "execution_count": 20,
   "id": "e6176ff5-d8f0-4f83-9035-d5b9859980e0",
   "metadata": {
    "tags": []
   },
   "outputs": [],
   "source": [
    "#  Count occurrences of each species\n",
    "species_counts = df_merged[\"taxaname_encoded\"].value_counts()\n",
    "\n",
    "# Keep only species that appear at least twice\n",
    "valid_species = species_counts[species_counts >= 2].index\n",
    "df_filtered = df_merged[df_merged[\"taxaname_encoded\"].isin(valid_species)]\n",
    "\n",
    "# Train-Test Split (Now Without Rare Species)\n",
    "X_train, X_test, y_train, y_test = train_test_split(\n",
    "    df_filtered[[\"Temperature\", \"pH\", \"Dissolved oxygen\", \"Salinity\"]],\n",
    "    df_filtered[\"parameter_value\"],\n",
    "    test_size=0.2,\n",
    "    random_state=42,\n",
    "    stratify=df_filtered[\"taxaname_encoded\"]  # No more single-instance classes\n",
    ")\n"
   ]
  },
  {
   "cell_type": "code",
   "execution_count": 21,
   "id": "ca72e08e-f659-4135-b6f4-23d5b2b6d21d",
   "metadata": {
    "tags": []
   },
   "outputs": [
    {
     "name": "stdout",
     "output_type": "stream",
     "text": [
      "XGBoost RMSE: 90.99473262941949\n"
     ]
    }
   ],
   "source": [
    "xgb_model = XGBRegressor(n_estimators=200, learning_rate=0.001, max_depth=4)\n",
    "xgb_model.fit(X_train, y_train)\n",
    "\n",
    "#  Predict and Evaluate\n",
    "y_pred = xgb_model.predict(X_test)\n",
    "rmse = mean_squared_error(y_test, y_pred, squared=False)\n",
    "\n",
    "print(f\"XGBoost RMSE: {rmse}\")\n"
   ]
  },
  {
   "cell_type": "code",
   "execution_count": null,
   "id": "75e849fe-e44b-4c7f-b007-9ddcec24b0aa",
   "metadata": {},
   "outputs": [],
   "source": []
  },
  {
   "cell_type": "code",
   "execution_count": 13,
   "id": "e92b45c7-7cfc-41cc-b6f2-f6d95e51a2fa",
   "metadata": {
    "tags": []
   },
   "outputs": [],
   "source": [
    "#  Count occurrences of each species\n",
    "species_counts = df_merged[\"taxaname_encoded\"].value_counts()\n",
    "\n",
    "#  Keep only species that appear at least twice\n",
    "valid_species = species_counts[species_counts >= 2].index\n",
    "df_filtered = df_merged[df_merged[\"taxaname_encoded\"].isin(valid_species)]\n",
    "\n",
    "#  Train-Test Split (Now Without Rare Species)\n",
    "X_train, X_test, y_train, y_test = train_test_split(\n",
    "    df_filtered[[\"Temperature\", \"pH\"]],\n",
    "    df_filtered[\"parameter_value\"],\n",
    "    test_size=0.2,\n",
    "    random_state=42,\n",
    "    stratify=df_filtered[\"taxaname_encoded\"]  # No more single-instance classes\n",
    ")\n"
   ]
  },
  {
   "cell_type": "code",
   "execution_count": 14,
   "id": "179a186c-fff1-4242-945e-6a95844a2f9c",
   "metadata": {
    "tags": []
   },
   "outputs": [
    {
     "name": "stdout",
     "output_type": "stream",
     "text": [
      "XGBoost RMSE: 91.80468771886551\n"
     ]
    }
   ],
   "source": [
    "xgb_model = XGBRegressor(n_estimators=100, learning_rate=0.0001, max_depth=3)\n",
    "xgb_model.fit(X_train, y_train)\n",
    "\n",
    "#  Predict and Evaluate\n",
    "y_pred = xgb_model.predict(X_test)\n",
    "rmse = mean_squared_error(y_test, y_pred, squared=False)\n",
    "\n",
    "print(f\"XGBoost RMSE: {rmse}\")\n"
   ]
  },
  {
   "cell_type": "code",
   "execution_count": 22,
   "id": "e311bf5a-0101-4b14-a2ff-023f22af6695",
   "metadata": {
    "tags": []
   },
   "outputs": [
    {
     "data": {
      "image/png": "[encoded data removed]",
      "text/plain": [
       "<Figure size 640x480 with 1 Axes>"
      ]
     },
     "metadata": {},
     "output_type": "display_data"
    }
   ],
   "source": [
    "import xgboost as xgb\n",
    "import matplotlib.pyplot as plt\n",
    "\n",
    "#  Ensure `model` is the trained XGBoost model\n",
    "xgb.plot_importance(xgb_model)  \n",
    "plt.show()\n"
   ]
  },
  {
   "cell_type": "code",
   "execution_count": null,
   "id": "490afe09-99ca-4d07-84fb-11594188f87d",
   "metadata": {},
   "outputs": [],
   "source": []
  }
 ],
 "metadata": {
  "kernelspec": {
   "display_name": "“d2s2”",
   "language": "python",
   "name": "d2s2"
  },
  "language_info": {
   "codemirror_mode": {
    "name": "ipython",
    "version": 3
   },
   "file_extension": ".py",
   "mimetype": "text/x-python",
   "name": "python",
   "nbconvert_exporter": "python",
   "pygments_lexer": "ipython3",
   "version": "3.11.3"
  }
 },
 "nbformat": 4,
 "nbformat_minor": 5
}
