{
 "cells": [
  {
   "cell_type": "markdown",
   "metadata": {},
   "source": [
    "## Data Preview"
   ]
  },
  {
   "cell_type": "code",
   "execution_count": 15,
   "metadata": {},
   "outputs": [],
   "source": [
    "import pandas as pd\n",
    "import numpy as np"
   ]
  },
  {
   "cell_type": "code",
   "execution_count": 16,
   "metadata": {},
   "outputs": [],
   "source": [
    "data_dir = './data/'"
   ]
  },
  {
   "cell_type": "code",
   "execution_count": 82,
   "metadata": {},
   "outputs": [],
   "source": [
    "df_fish = pd.read_csv(data_dir + 'FISH.csv')\n",
    "df_water = pd.read_csv(data_dir + 'WATER.csv')\n",
    "df_phy = pd.read_csv(data_dir + 'PHYTOPLANKTON.csv')\n",
    "df_meta = pd.read_csv(data_dir + 'METADATA.csv')"
   ]
  },
  {
   "cell_type": "markdown",
   "metadata": {},
   "source": [
    "### Combine the datasets"
   ]
  },
  {
   "cell_type": "code",
   "execution_count": 83,
   "metadata": {},
   "outputs": [],
   "source": [
    "#### First link the site information with the water data\n",
    "df_meta_water = df_meta[df_meta['taxagroup']=='Water'].reset_index(drop=True)\n",
    "df_water_site = pd.merge(df_water, df_meta, how='left', on='siteid')"
   ]
  },
  {
   "cell_type": "code",
   "execution_count": 84,
   "metadata": {},
   "outputs": [
    {
     "name": "stdout",
     "output_type": "stream",
     "text": [
      "<class 'pandas.core.frame.DataFrame'>\n",
      "RangeIndex: 271925 entries, 0 to 271924\n",
      "Data columns (total 25 columns):\n",
      " #   Column                  Non-Null Count   Dtype  \n",
      "---  ------                  --------------   -----  \n",
      " 0   datecollected           271925 non-null  object \n",
      " 1   siteid                  271925 non-null  object \n",
      " 2   sampleid                271925 non-null  object \n",
      " 3   basisofrecord           271925 non-null  object \n",
      " 4   minimumdepthinmeters    271925 non-null  int64  \n",
      " 5   maximumdepthinmeters    271925 non-null  float64\n",
      " 6   samplingeffort          271925 non-null  object \n",
      " 7   parameter               271925 non-null  object \n",
      " 8   parameter_value         271925 non-null  object \n",
      " 9   parameter_standardunit  254111 non-null  object \n",
      " 10  taxagroup               271925 non-null  object \n",
      " 11  sitename                271925 non-null  object \n",
      " 12  country                 271925 non-null  object \n",
      " 13  seaname                 271925 non-null  object \n",
      " 14  decimallatitude         271925 non-null  float64\n",
      " 15  decimallongitude        271925 non-null  float64\n",
      " 16  startyearcollected      271925 non-null  int64  \n",
      " 17  endyearcollected        271925 non-null  int64  \n",
      " 18  samplingprotocol        271925 non-null  object \n",
      " 19  name1                   271925 non-null  object \n",
      " 20  mail1                   271925 non-null  object \n",
      " 21  name2                   271925 non-null  object \n",
      " 22  mail2                   271925 non-null  object \n",
      " 23  name3                   271925 non-null  object \n",
      " 24  mail3                   271925 non-null  object \n",
      "dtypes: float64(3), int64(3), object(19)\n",
      "memory usage: 51.9+ MB\n"
     ]
    }
   ],
   "source": [
    "df_water_site.info()"
   ]
  },
  {
   "cell_type": "code",
   "execution_count": 85,
   "metadata": {},
   "outputs": [],
   "source": [
    "df_water_site['datecollected'] = pd.to_datetime(df_water_site['datecollected'])\n",
    "df_water_site = df_water_site.sort_values(['datecollected']).reset_index(drop=True)\n",
    "\n",
    "df_phy['datecollected'] = pd.to_datetime(df_phy['datecollected'])\n",
    "df_phy = df_phy.sort_values(['datecollected']).reset_index(drop=True)"
   ]
  },
  {
   "cell_type": "code",
   "execution_count": 86,
   "metadata": {},
   "outputs": [],
   "source": [
    "df_water_site['water_date'] = df_water_site['datecollected']\n",
    "df_phy['phy_date'] = df_phy['datecollected']"
   ]
  },
  {
   "cell_type": "code",
   "execution_count": 87,
   "metadata": {},
   "outputs": [],
   "source": [
    "df_water_site['common_siteid'] = df_water_site['siteid'].str.extract(r'([A-Z]-[A-Z]+[0-9]+)')\n",
    "df_phy['common_siteid'] = df_phy['siteid']"
   ]
  },
  {
   "cell_type": "code",
   "execution_count": 88,
   "metadata": {},
   "outputs": [
    {
     "data": {
      "text/plain": [
       "array(['E-BI10', 'E-OI10', 'E-OI20', 'E-UR10', 'E-O10', 'E-BI20',\n",
       "       'L-OI10', 'L-OI20', 'L-O10', 'L-D10', 'L-U10', 'L-UR20', 'E-D10',\n",
       "       'E-L10', 'E-A10', 'E-A5', 'E-U10', 'E-U8', 'E-L5', 'E-OK20',\n",
       "       'E-OK10', 'E-OK5', 'E-N30', 'L-N10', 'E-N10', 'E-N15', 'E-M10',\n",
       "       'E-N20', 'E-B5', 'E-B7', 'E-B10', 'L-RF10', 'L-BI10', 'L-L20',\n",
       "       'L-N20', 'L-L10', 'L-OK10', 'L-B10', 'L-A10', 'L-B20', 'L-B15',\n",
       "       'E-M5', 'L-O20', 'E-N17', 'E-O5', 'E-D5', 'L-UR10', 'E-BI5',\n",
       "       'E-OI15', 'E-UR5', 'E-U5', 'L-RF20', 'L-RF30'], dtype=object)"
      ]
     },
     "execution_count": 88,
     "metadata": {},
     "output_type": "execute_result"
    }
   ],
   "source": [
    "df_phy['common_siteid'].unique()"
   ]
  },
  {
   "cell_type": "code",
   "execution_count": null,
   "metadata": {},
   "outputs": [],
   "source": []
  },
  {
   "cell_type": "code",
   "execution_count": 89,
   "metadata": {},
   "outputs": [
    {
     "data": {
      "text/plain": [
       "array(['E-OI10', 'E-OI20', 'E-L10', 'E-O10', 'E-M10', 'E-N10', 'E-UR10',\n",
       "       'E-OK10', 'E-U10', 'E-D10', 'E-BI10', 'E-BI20', 'E-B10', 'L-UR20',\n",
       "       'L-BI10', 'L-U10', 'L-O10', 'L-OI10', 'L-N20', 'E-N20', 'L-N10',\n",
       "       'E-N30', 'L-B10', 'L-OK10', 'L-B20', 'L-L10', 'L-D10', 'E-A10',\n",
       "       'E-OK20', 'L-A10', 'E-N15', 'E-N17', 'E-U5', 'E-U8', 'E-D5',\n",
       "       'E-BI5', 'E-M5', 'E-L5', 'E-B5', 'E-B7', 'E-A5', 'E-OK5', 'E-UR5',\n",
       "       'E-OI15', 'E-O5', 'L-RF10', 'L-OI20', 'L-O20', 'L-L20', 'L-RF20',\n",
       "       'L-RF30'], dtype=object)"
      ]
     },
     "execution_count": 89,
     "metadata": {},
     "output_type": "execute_result"
    }
   ],
   "source": [
    "df_water_site['common_siteid'].unique()"
   ]
  },
  {
   "cell_type": "code",
   "execution_count": null,
   "metadata": {},
   "outputs": [],
   "source": []
  },
  {
   "cell_type": "code",
   "execution_count": null,
   "metadata": {},
   "outputs": [],
   "source": []
  },
  {
   "cell_type": "code",
   "execution_count": null,
   "metadata": {},
   "outputs": [],
   "source": []
  },
  {
   "cell_type": "code",
   "execution_count": 90,
   "metadata": {},
   "outputs": [],
   "source": [
    "df_water_phy = pd.merge_asof(df_phy, df_water_site, on=['datecollected'], by='common_siteid', direction='nearest')"
   ]
  },
  {
   "cell_type": "code",
   "execution_count": null,
   "metadata": {},
   "outputs": [],
   "source": []
  },
  {
   "cell_type": "code",
   "execution_count": 91,
   "metadata": {},
   "outputs": [
    {
     "name": "stdout",
     "output_type": "stream",
     "text": [
      "<class 'pandas.core.frame.DataFrame'>\n",
      "RangeIndex: 57945 entries, 0 to 57944\n",
      "Data columns (total 39 columns):\n",
      " #   Column                    Non-Null Count  Dtype         \n",
      "---  ------                    --------------  -----         \n",
      " 0   datecollected             57945 non-null  datetime64[ns]\n",
      " 1   siteid_x                  57945 non-null  object        \n",
      " 2   sampleid_x                57945 non-null  object        \n",
      " 3   basisofrecord_x           57945 non-null  object        \n",
      " 4   minimumdepthinmeters_x    57945 non-null  int64         \n",
      " 5   maximumdepthinmeters_x    57945 non-null  float64       \n",
      " 6   taxaname                  57945 non-null  object        \n",
      " 7   taxanameid                57945 non-null  int64         \n",
      " 8   samplingeffort_x          57945 non-null  object        \n",
      " 9   parameter_x               57945 non-null  object        \n",
      " 10  parameter_value_x         57945 non-null  float64       \n",
      " 11  parameter_standardunit_x  57945 non-null  object        \n",
      " 12  phy_date                  57945 non-null  datetime64[ns]\n",
      " 13  common_siteid             57945 non-null  object        \n",
      " 14  siteid_y                  57823 non-null  object        \n",
      " 15  sampleid_y                57823 non-null  object        \n",
      " 16  basisofrecord_y           57823 non-null  object        \n",
      " 17  minimumdepthinmeters_y    57823 non-null  float64       \n",
      " 18  maximumdepthinmeters_y    57823 non-null  float64       \n",
      " 19  samplingeffort_y          57823 non-null  object        \n",
      " 20  parameter_y               57823 non-null  object        \n",
      " 21  parameter_value_y         57823 non-null  object        \n",
      " 22  parameter_standardunit_y  50745 non-null  object        \n",
      " 23  taxagroup                 57823 non-null  object        \n",
      " 24  sitename                  57823 non-null  object        \n",
      " 25  country                   57823 non-null  object        \n",
      " 26  seaname                   57823 non-null  object        \n",
      " 27  decimallatitude           57823 non-null  float64       \n",
      " 28  decimallongitude          57823 non-null  float64       \n",
      " 29  startyearcollected        57823 non-null  float64       \n",
      " 30  endyearcollected          57823 non-null  float64       \n",
      " 31  samplingprotocol          57823 non-null  object        \n",
      " 32  name1                     57823 non-null  object        \n",
      " 33  mail1                     57823 non-null  object        \n",
      " 34  name2                     57823 non-null  object        \n",
      " 35  mail2                     57823 non-null  object        \n",
      " 36  name3                     57823 non-null  object        \n",
      " 37  mail3                     57823 non-null  object        \n",
      " 38  water_date                57823 non-null  datetime64[ns]\n",
      "dtypes: datetime64[ns](3), float64(8), int64(2), object(26)\n",
      "memory usage: 17.2+ MB\n"
     ]
    }
   ],
   "source": [
    "df_water_phy.info()"
   ]
  },
  {
   "cell_type": "code",
   "execution_count": 92,
   "metadata": {},
   "outputs": [],
   "source": [
    "df_water_phy.to_csv(data_dir + 'WATER_PHYTOPLANKTON.csv', index=False)"
   ]
  },
  {
   "cell_type": "code",
   "execution_count": null,
   "metadata": {},
   "outputs": [],
   "source": []
  },
  {
   "cell_type": "code",
   "execution_count": 51,
   "metadata": {},
   "outputs": [
    {
     "name": "stdout",
     "output_type": "stream",
     "text": [
      "<class 'pandas.core.frame.DataFrame'>\n",
      "RangeIndex: 3629 entries, 0 to 3628\n",
      "Data columns (total 37 columns):\n",
      " #   Column                    Non-Null Count  Dtype         \n",
      "---  ------                    --------------  -----         \n",
      " 0   datecollected             3629 non-null   datetime64[ns]\n",
      " 1   siteid                    3629 non-null   object        \n",
      " 2   sampleid_x                3629 non-null   object        \n",
      " 3   basisofrecord_x           3629 non-null   object        \n",
      " 4   minimumdepthinmeters_x    3629 non-null   float64       \n",
      " 5   maximumdepthinmeters_x    3629 non-null   float64       \n",
      " 6   taxaname                  3629 non-null   object        \n",
      " 7   taxanameid                3629 non-null   int64         \n",
      " 8   samplingeffort_x          3629 non-null   object        \n",
      " 9   parameter_x               3629 non-null   object        \n",
      " 10  parameter_value_x         3629 non-null   float64       \n",
      " 11  parameter_standardunit_x  3629 non-null   object        \n",
      " 12  fish_date                 3629 non-null   datetime64[ns]\n",
      " 13  sampleid_y                0 non-null      object        \n",
      " 14  basisofrecord_y           0 non-null      object        \n",
      " 15  minimumdepthinmeters_y    0 non-null      float64       \n",
      " 16  maximumdepthinmeters_y    0 non-null      float64       \n",
      " 17  samplingeffort_y          0 non-null      object        \n",
      " 18  parameter_y               0 non-null      object        \n",
      " 19  parameter_value_y         0 non-null      object        \n",
      " 20  parameter_standardunit_y  0 non-null      object        \n",
      " 21  taxagroup                 0 non-null      object        \n",
      " 22  sitename                  0 non-null      object        \n",
      " 23  country                   0 non-null      object        \n",
      " 24  seaname                   0 non-null      object        \n",
      " 25  decimallatitude           0 non-null      float64       \n",
      " 26  decimallongitude          0 non-null      float64       \n",
      " 27  startyearcollected        0 non-null      float64       \n",
      " 28  endyearcollected          0 non-null      float64       \n",
      " 29  samplingprotocol          0 non-null      object        \n",
      " 30  name1                     0 non-null      object        \n",
      " 31  mail1                     0 non-null      object        \n",
      " 32  name2                     0 non-null      object        \n",
      " 33  mail2                     0 non-null      object        \n",
      " 34  name3                     0 non-null      object        \n",
      " 35  mail3                     0 non-null      object        \n",
      " 36  water_date                0 non-null      datetime64[ns]\n",
      "dtypes: datetime64[ns](3), float64(9), int64(1), object(24)\n",
      "memory usage: 1.0+ MB\n"
     ]
    }
   ],
   "source": [
    "df_water_fish.info()"
   ]
  },
  {
   "cell_type": "code",
   "execution_count": null,
   "metadata": {},
   "outputs": [],
   "source": []
  },
  {
   "cell_type": "code",
   "execution_count": 52,
   "metadata": {},
   "outputs": [
    {
     "data": {
      "text/plain": [
       "array(['PV_GAL_ABRAINT', 'PV_GAL_LAMIAKO', 'AMI', 'AME', 'AMM',\n",
       "       'PV_GAL_RONTEGI', 'ABM', 'ABE', 'ABI', 'AOKM', 'AOKI', 'AOKE',\n",
       "       'ALE', 'ALM', 'ALI', 'AAE', 'AAM', 'AAI', 'PV_GAL_OLABEAGA', 'ADI',\n",
       "       'ADE', 'ADM', 'AOE', 'AOM', 'AOI', 'ANM', 'ANI', 'ANE', 'UROM',\n",
       "       'UROE', 'UROI', 'BIDM', 'BIDI', 'BIDE', 'OIAM', 'OIAI2', 'OIAE',\n",
       "       'OIAI1', 'URUI', 'URUE', 'URUM', 'BIDIb'], dtype=object)"
      ]
     },
     "execution_count": 52,
     "metadata": {},
     "output_type": "execute_result"
    }
   ],
   "source": [
    "df_fish['siteid'].unique()"
   ]
  },
  {
   "cell_type": "code",
   "execution_count": 53,
   "metadata": {},
   "outputs": [
    {
     "data": {
      "text/plain": [
       "array(['E-OI20HS', 'E-OI10LS', 'E-OI20LS', 'E-OI10LB', 'E-OI20LB',\n",
       "       'E-OI10HS', 'E-OI10HB', 'E-OI20HB', 'E-L10LS', 'E-L10HB',\n",
       "       'E-L10HS', 'E-O10LB', 'E-O10HS', 'E-O10LS', 'E-M10HS', 'E-M10LS',\n",
       "       'E-N10HB', 'E-N10HS', 'E-M10LB', 'E-N10LS', 'E-O10HB', 'E-M10HB',\n",
       "       'E-N10LB', 'E-OK10LS', 'E-OK10LB', 'E-UR10HB', 'E-OK10HB',\n",
       "       'E-OK10HS', 'E-UR10LS', 'E-UR10HS', 'E-D10LB', 'E-BI20LS',\n",
       "       'E-BI10HB', 'E-D10HB', 'E-D10LS', 'E-D10HS', 'E-BI20HS',\n",
       "       'E-BI10LS', 'E-BI20LB', 'E-BI20HB', 'E-BI10HS', 'E-U10LS',\n",
       "       'E-U10LB', 'E-U10HS', 'E-U10HB', 'E-B10LS', 'E-B10HS', 'E-B10HB',\n",
       "       'L-BI10S', 'L-OI10S', 'L-OI10B', 'L-O10S', 'L-BI10B', 'L-U10S',\n",
       "       'L-UR20S', 'L-UR20B', 'L-U10B', 'L-O10B', 'E-N30LS', 'E-N30HS',\n",
       "       'E-N30LB', 'L-N10S', 'L-N20S', 'L-N20B', 'L-N10B', 'E-N20HS',\n",
       "       'E-N20HB', 'E-N20LS', 'E-N30HB', 'E-N20LB', 'L-B10S', 'L-B10B',\n",
       "       'L-L10B', 'L-L10S', 'L-B20B', 'L-B20S', 'L-OK10S', 'L-OK10B',\n",
       "       'L-D10B', 'L-D10S', 'E-A10LS', 'E-A10LB', 'E-A10HB', 'E-A10HS',\n",
       "       'E-BI10LB', 'E-B10LB', 'E-UR10LB', 'E-L10LB', 'E-OK20LS',\n",
       "       'E-OK20HS', 'E-OK20HB', 'L-A10B', 'L-A10S', 'E-OK20LB', 'E-N17HS',\n",
       "       'E-N17LS', 'E-N15LS', 'E-N15HS', 'E-U5HS', 'E-U8LS', 'E-U5LS',\n",
       "       'E-D5LS', 'E-U8HS', 'E-D5HS', 'E-BI5HS', 'E-BI5LS', 'E-M5LS',\n",
       "       'E-M5HS', 'E-B5HS', 'E-B5LS', 'E-B7LS', 'E-L5LS', 'E-L5HS',\n",
       "       'E-B7HS', 'E-A5HS', 'E-OK5LS', 'E-OK5HS', 'E-A5LS', 'E-OI15LB',\n",
       "       'E-OI15HB', 'E-OI15HS', 'E-UR5LS', 'E-OI15LS', 'E-UR5HS', 'E-O5LS',\n",
       "       'E-O5HS', 'L-RF10S', 'L-OI20S', 'L-OI20B', 'L-RF10B', 'L-O20S',\n",
       "       'L-O20B', 'L-L20S', 'L-L20B', 'E-N15HB', 'E-N17LB', 'E-N17HB',\n",
       "       'E-N15LB', 'E-O5HB', 'E-UR5HB', 'E-UR5LB', 'E-D5LB', 'E-D5HB',\n",
       "       'E-BI5LB', 'E-BI5HB', 'E-U8HB', 'E-U5LB', 'E-U5HB', 'E-U8LB',\n",
       "       'E-OK5HB', 'E-OK5LB', 'E-A5LB', 'E-L5HB', 'E-A5HB', 'E-B7HB',\n",
       "       'E-B5LB', 'E-B7LB', 'E-B5HB', 'E-M5HB', 'E-M5LB', 'E-L5LB',\n",
       "       'E-O5LB', 'L-RF30S', 'L-RF20S', 'L-RF20B', 'L-RF30B'], dtype=object)"
      ]
     },
     "execution_count": 53,
     "metadata": {},
     "output_type": "execute_result"
    }
   ],
   "source": [
    "df_water_site['siteid'].unique()"
   ]
  },
  {
   "cell_type": "code",
   "execution_count": 54,
   "metadata": {},
   "outputs": [
    {
     "data": {
      "text/plain": [
       "array(['E-A10LB', 'E-B10LB', 'E-BI10LB', 'E-BI20LB', 'E-D10LB', 'E-L10LB',\n",
       "       'E-M10LB', 'E-N10LB', 'E-N20LB', 'E-N30LB', 'E-O10LB', 'E-OI10LB',\n",
       "       'E-OI20LB', 'E-OK10LB', 'E-OK20LB', 'E-U10LB', 'E-UR10LB',\n",
       "       'E-A10LS', 'E-B10LS', 'E-BI10LS', 'E-BI20LS', 'E-D10LS', 'E-L10LS',\n",
       "       'E-M10LS', 'E-N10LS', 'E-N20LS', 'E-N30LS', 'E-O10LS', 'E-OI10LS',\n",
       "       'E-OI20LS', 'E-OK10LS', 'E-OK20LS', 'E-U10LS', 'E-UR10LS',\n",
       "       'L-A10B', 'L-B10B', 'L-B20B', 'L-BI10B', 'L-D10B', 'L-L10B',\n",
       "       'L-N10B', 'L-N20B', 'L-O10B', 'L-OI10B', 'L-OK10B', 'L-U10B',\n",
       "       'L-UR20B', 'L-A10S', 'L-B10S', 'L-B20S', 'L-BI10S', 'L-D10S',\n",
       "       'L-L10S', 'L-N10S', 'L-N20S', 'L-O10S', 'L-OI10S', 'L-OK10S',\n",
       "       'L-U10S', 'L-UR20S', 'E-A10HB', 'E-B10HB', 'E-BI10HB', 'E-BI20HB',\n",
       "       'E-D10HB', 'E-L10HB', 'E-M10HB', 'E-N10HB', 'E-N20HB', 'E-N30HB',\n",
       "       'E-O10HB', 'E-OI10HB', 'E-OI20HB', 'E-OK10HB', 'E-OK20HB',\n",
       "       'E-U10HB', 'E-UR10HB', 'E-A10HS', 'E-B10HS', 'E-BI10HS',\n",
       "       'E-BI20HS', 'E-D10HS', 'E-L10HS', 'E-M10HS', 'E-N10HS', 'E-N20HS',\n",
       "       'E-N30HS', 'E-O10HS', 'E-OI10HS', 'E-OI20HS', 'E-OK10HS',\n",
       "       'E-OK20HS', 'E-U10HS', 'E-UR10HS', 'E-A5LB', 'E-B5LB', 'E-B7LB',\n",
       "       'E-BI5LB', 'E-D5LB', 'E-L5LB', 'E-M5LB', 'E-N15LB', 'E-N17LB',\n",
       "       'E-O5LB', 'E-OI15LB', 'E-OK5LB', 'E-U5LB', 'E-U8LB', 'E-UR5LB',\n",
       "       'E-A5LS', 'E-B5LS', 'E-B7LS', 'E-BI5LS', 'E-D5LS', 'E-L5LS',\n",
       "       'E-M5LS', 'E-N15LS', 'E-N17LS', 'E-O5LS', 'E-OI15LS', 'E-OK5LS',\n",
       "       'E-U5LS', 'E-U8LS', 'E-UR5LS', 'L-L20B', 'L-O20B', 'L-OI20B',\n",
       "       'L-RF10B', 'L-L20S', 'L-O20S', 'L-OI20S', 'L-RF10S', 'E-A5HB',\n",
       "       'E-B5HB', 'E-B7HB', 'E-BI5HB', 'E-D5HB', 'E-L5HB', 'E-M5HB',\n",
       "       'E-N15HB', 'E-N17HB', 'E-O5HB', 'E-OI15HB', 'E-OK5HB', 'E-U5HB',\n",
       "       'E-U8HB', 'E-UR5HB', 'E-A5HS', 'E-B5HS', 'E-B7HS', 'E-BI5HS',\n",
       "       'E-D5HS', 'E-L5HS', 'E-M5HS', 'E-N15HS', 'E-N17HS', 'E-O5HS',\n",
       "       'E-OI15HS', 'E-OK5HS', 'E-U5HS', 'E-U8HS', 'E-UR5HS', 'L-RF20B',\n",
       "       'L-RF30B', 'L-RF20S', 'L-RF30S'], dtype=object)"
      ]
     },
     "execution_count": 54,
     "metadata": {},
     "output_type": "execute_result"
    }
   ],
   "source": [
    "df_water['siteid'].unique()"
   ]
  }
 ],
 "metadata": {
  "kernelspec": {
   "display_name": "Python 3",
   "language": "python",
   "name": "python3"
  },
  "language_info": {
   "codemirror_mode": {
    "name": "ipython",
    "version": 3
   },
   "file_extension": ".py",
   "mimetype": "text/x-python",
   "name": "python",
   "nbconvert_exporter": "python",
   "pygments_lexer": "ipython3",
   "version": "3.12.1"
  }
 },
 "nbformat": 4,
 "nbformat_minor": 2
}
