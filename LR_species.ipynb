{
 "cells": [
  {
   "cell_type": "code",
   "execution_count": null,
   "id": "a4b401a0-138b-4758-821e-9bbe8ffe61a7",
   "metadata": {},
   "outputs": [],
   "source": [
    "\n",
    "phytp=pd.read_csv('/lustre/scratch126/cellgen/team298/ab72/accelerate/PHYTOPLANKTON.csv')"
   ]
  },
  {
   "cell_type": "code",
   "execution_count": null,
   "id": "dbca75dd-4939-4b1f-b576-c29ba6c2a1a5",
   "metadata": {},
   "outputs": [],
   "source": [
    "import pandas as pd\n",
    "import seaborn as sns\n",
    "import matplotlib.pyplot as plt\n",
    "\n",
    "\n",
    "df_grouped = phytp.groupby([\"siteid\", \"taxaname\"]).size().reset_index(name=\"count\")\n",
    "\n",
    "# Create a stacked bar plot\n",
    "plt.figure(figsize=(12, 6))\n",
    "sns.barplot(x=\"siteid\", y=\"count\", hue=\"taxaname\", data=df_grouped, palette=\"Set2\")\n",
    "\n",
    "#  Customize the plot\n",
    "plt.xticks(rotation=45)  # Rotate x-axis labels for readability\n",
    "plt.title(\"Taxaname Distribution Across Site IDs\")\n",
    "plt.xlabel(\"Site ID\")\n",
    "plt.ylabel(\"Count of Taxaname\")\n",
    "plt.legend(title=\"Taxaname\", bbox_to_anchor=(1.05, 1), loc='upper left')  # Move legend outside\n",
    "plt.show()\n"
   ]
  },
  {
   "cell_type": "code",
   "execution_count": 30,
   "id": "5a04edcf-a817-4058-a129-5e3d61d42540",
   "metadata": {
    "tags": []
   },
   "outputs": [
    {
     "name": "stderr",
     "output_type": "stream",
     "text": [
      "/tmp/ipykernel_1071276/3671086491.py:1: DtypeWarning: Columns (23,24,33,35,39,40,41,42,43,44,45,46,47,48,49,58) have mixed types. Specify dtype option on import or set low_memory=False.\n",
      "  merged2=pd.read_csv('/lustre/scratch126/cellgen/team298/ab72/accelerate/WATER_METADATA_PHYTOPLANKTON.csv')\n"
     ]
    }
   ],
   "source": [
    "merged2=pd.read_csv('/lustre/scratch126/cellgen/team298/ab72/accelerate/WATER_METADATA_PHYTOPLANKTON.csv')"
   ]
  },
  {
   "cell_type": "code",
   "execution_count": 31,
   "id": "020edc54-6549-4c0f-a0c0-b477d3e939ee",
   "metadata": {
    "tags": []
   },
   "outputs": [
    {
     "name": "stdout",
     "output_type": "stream",
     "text": [
      "    siteid                                    sitename country        seaname  \\\n",
      "0  E-A10HS  Ondarroa (Embarcadero). High Tide. Surface      ES  Bay of Biscay   \n",
      "1  E-A10HS  Ondarroa (Embarcadero). High Tide. Surface      ES  Bay of Biscay   \n",
      "2  E-A10HS  Ondarroa (Embarcadero). High Tide. Surface      ES  Bay of Biscay   \n",
      "3  E-A10HS  Ondarroa (Embarcadero). High Tide. Surface      ES  Bay of Biscay   \n",
      "4  E-A10HS  Ondarroa (Embarcadero). High Tide. Surface      ES  Bay of Biscay   \n",
      "\n",
      "   decimallatitude  decimallongitude datecollected  Temperature    pH  \\\n",
      "0        43.319883         -2.420973    2002-04-24         16.5  8.34   \n",
      "1        43.319883         -2.420973    2002-04-24         16.5  8.34   \n",
      "2        43.319883         -2.420973    2002-04-24         16.5  8.34   \n",
      "3        43.319883         -2.420973    2002-04-24         16.5  8.34   \n",
      "4        43.319883         -2.420973    2002-04-24         16.5  8.34   \n",
      "\n",
      "   Dissolved oxygen  ...        sampleid   basisofrecord  \\\n",
      "0             8.294  ...  E-A10_20020424  MaterialSample   \n",
      "1             8.294  ...  E-A10_20020424  MaterialSample   \n",
      "2             8.294  ...  E-A10_20020424  MaterialSample   \n",
      "3             8.294  ...  E-A10_20020424  MaterialSample   \n",
      "4             8.294  ...  E-A10_20020424  MaterialSample   \n",
      "\n",
      "   minimumdepthinmeters maximumdepthinmeters                 taxaname  \\\n",
      "0                     0                  0.5      Chaetoceros danicus   \n",
      "1                     0                  0.5  Chaetoceros salsugineum   \n",
      "2                     0                  0.5             Eutreptiella   \n",
      "3                     0                  0.5      Gyrodinium dominans   \n",
      "4                     0                  0.5           Leptocylindrus   \n",
      "\n",
      "  taxanameid samplingeffort  parameter parameter_value parameter_standardunit  \n",
      "0     149120         125 ml  Abundance            0.02                 cel/ml  \n",
      "1     621740         125 ml  Abundance            1.72                 cel/ml  \n",
      "2      17657         125 ml  Abundance            6.40                 cel/ml  \n",
      "3     109851         125 ml  Abundance            0.02                 cel/ml  \n",
      "4     149038         125 ml  Abundance            0.32                 cel/ml  \n",
      "\n",
      "[5 rows x 70 columns]\n"
     ]
    }
   ],
   "source": [
    "subset_pandas = merged2[merged2[\"siteid\"] == \"E-A10HS\"]\n",
    "\n",
    "#  Display the subset\n",
    "print(subset_pandas.head())"
   ]
  },
  {
   "cell_type": "code",
   "execution_count": null,
   "id": "6b4dd1ce-c4e1-427c-88ea-591c776e8294",
   "metadata": {},
   "outputs": [],
   "source": [
    "import pandas as pd\n",
    "import statsmodels.api as sm\n",
    "\n",
    "# Get unique species\n",
    "unique_species = subset_pandas[\"taxaname\"].unique()\n",
    "\n",
    "#  Dictionary to store results\n",
    "regression_results = {\"Temperature\": {}, \"pH\": {}}\n",
    "\n",
    "#  Loop through each species and fit two regression models\n",
    "for species in unique_species:\n",
    "    df_species = subset_pandas[subset_pandas[\"taxaname\"] == species][[\"parameter_value\", \"Temperature\", \"pH\"]].dropna()\n",
    "    \n",
    "    # Ensure enough data points for regression\n",
    "    if len(df_species) < 2:\n",
    "        print(f\"Skipping {species} (not enough data)\")\n",
    "        continue\n",
    "\n",
    "    ##  1. Regression: `parameter_value` vs `Temperature`\n",
    "    X_temp = df_species[\"Temperature\"]\n",
    "    y = df_species[\"parameter_value\"]\n",
    "    X_temp = sm.add_constant(X_temp)  # Add intercept\n",
    "\n",
    "    model_temp = sm.OLS(y, X_temp).fit()\n",
    "    regression_results[\"Temperature\"][species] = model_temp.summary()\n",
    "    \n",
    "    print(f\"🔹 Regression Results for {species} (Temperature)\")\n",
    "    print(model_temp.summary())\n",
    "    print(\"\\n\" + \"=\"*60 + \"\\n\")\n",
    "\n",
    "    ## 2. Regression: `parameter_value` vs `pH`\n",
    "    X_pH = df_species[\"pH\"]\n",
    "    X_pH = sm.add_constant(X_pH)  # Add intercept\n",
    "\n",
    "    model_pH = sm.OLS(y, X_pH).fit()\n",
    "    regression_results[\"pH\"][species] = model_pH.summary()\n",
    "\n",
    "    print(f\"🔹 Regression Results for {species} (pH)\")\n",
    "    print(model_pH.summary())\n",
    "    print(\"\\n\" + \"=\"*60 + \"\\n\")\n"
   ]
  },
  {
   "cell_type": "code",
   "execution_count": null,
   "id": "5749c535-3b5d-4c0a-8e16-29eae6c2335b",
   "metadata": {},
   "outputs": [],
   "source": [
    "results_list = []\n",
    "\n",
    "for species in regression_results[\"Temperature\"]:\n",
    "    temp_coef = regression_results[\"Temperature\"][species].tables[1].data[1][1]  # Extract temperature coefficient\n",
    "    temp_p_value = regression_results[\"Temperature\"][species].tables[1].data[1][4]  # Extract p-value\n",
    "    \n",
    "    pH_coef = regression_results[\"pH\"][species].tables[1].data[1][1]  # Extract pH coefficient\n",
    "    pH_p_value = regression_results[\"pH\"][species].tables[1].data[1][4]  # Extract p-value\n",
    "\n",
    "    results_list.append([species, temp_coef, temp_p_value, pH_coef, pH_p_value])\n",
    "\n",
    "df_results = pd.DataFrame(results_list, columns=[\"Species\", \"Temp Coefficient\", \"Temp P-Value\", \"pH Coefficient\", \"pH P-Value\"])\n",
    "print(df_results)\n"
   ]
  },
  {
   "cell_type": "code",
   "execution_count": null,
   "id": "4800f089-9b1e-4e47-957f-63dd11b5b607",
   "metadata": {},
   "outputs": [],
   "source": [
    "df_results.to_csv('/lustre/scratch126/cellgen/team298/ab72/accelerate/temp_ph_species.csv')"
   ]
  },
  {
   "cell_type": "code",
   "execution_count": null,
   "id": "c06a2204-7d4c-44b1-a1f3-6645fc41a3d8",
   "metadata": {},
   "outputs": [],
   "source": [
    "#rank coefficientsfor each species\n",
    "\n",
    "import pandas as pd\n",
    "import statsmodels.api as sm\n",
    "\n",
    "#  Get unique species\n",
    "unique_species = subset_pandas[\"taxaname\"].unique()\n",
    "\n",
    "#  Dictionary to store coefficients and p-values\n",
    "results_list = []\n",
    "\n",
    "#  Loop through each species and fit two regression models\n",
    "for species in unique_species:\n",
    "    df_species = subset_pandas[subset_pandas[\"taxaname\"] == species][[\"parameter_value\", \"Temperature\", \"pH\"]].dropna()\n",
    "\n",
    "    # Ensure enough data points for regression\n",
    "    if len(df_species) < 2:\n",
    "        continue  # Skip species with insufficient data\n",
    "\n",
    "    ##  1. Regression: `parameter_value` vs `Temperature`\n",
    "    X_temp = sm.add_constant(df_species[\"Temperature\"])\n",
    "    y = df_species[\"parameter_value\"]\n",
    "\n",
    "    model_temp = sm.OLS(y, X_temp).fit()\n",
    "    temp_coef = model_temp.params[\"Temperature\"]  # Extract Temperature coefficient\n",
    "    temp_p_value = model_temp.pvalues[\"Temperature\"]  # Extract Temperature p-value\n",
    "\n",
    "    ##  2. Regression: `parameter_value` vs `pH`\n",
    "    X_pH = sm.add_constant(df_species[\"pH\"])\n",
    "    model_pH = sm.OLS(y, X_pH).fit()\n",
    "    pH_coef = model_pH.params[\"pH\"]  # Extract pH coefficient\n",
    "    pH_p_value = model_pH.pvalues[\"pH\"]  # Extract pH p-value\n",
    "\n",
    "    #  Store results\n",
    "    results_list.append([species, temp_coef, temp_p_value, pH_coef, pH_p_value])\n",
    "\n",
    "#  Convert to DataFrame\n",
    "df_results = pd.DataFrame(results_list, columns=[\"Species\", \"Temp Coefficient\", \"Temp P-Value\", \"pH Coefficient\", \"pH P-Value\"])\n",
    "\n",
    "#  Sort by strongest effects (absolute coefficients)\n",
    "df_sorted_temp = df_results.sort_values(by=\"Temp Coefficient\", key=abs, ascending=False)\n",
    "df_sorted_pH = df_results.sort_values(by=\"pH Coefficient\", key=abs, ascending=False)\n",
    "\n",
    "#  Display top species affected by Temperature and pH\n",
    "print(\"🔹 Top 10 Species Most Affected by Temperature:\")\n",
    "print(df_sorted_temp.head(10))\n",
    "\n",
    "print(\"\\n🔹 Top 10 Species Most Affected by pH:\")\n",
    "print(df_sorted_pH.head(10))\n"
   ]
  },
  {
   "cell_type": "code",
   "execution_count": null,
   "id": "e44ad5d9-209b-4832-b0fb-f3f8542a0dc8",
   "metadata": {},
   "outputs": [],
   "source": [
    "import pandas as pd\n",
    "import statsmodels.api as sm\n",
    "import matplotlib.pyplot as plt\n",
    "import seaborn as sns\n",
    "\n",
    "#  Get unique species\n",
    "unique_species = subset_pandas[\"taxaname\"].unique()\n",
    "\n",
    "#  Set up figure size and layout\n",
    "num_species = len(unique_species)\n",
    "num_cols = 3  # Number of columns in the plot grid\n",
    "num_rows = (num_species // num_cols) + (num_species % num_cols > 0)  # Calculate rows\n",
    "\n",
    "fig, axes = plt.subplots(num_rows, num_cols, figsize=(15, num_rows * 4))\n",
    "axes = axes.flatten()  # Flatten in case of multiple rows\n",
    "\n",
    "#  Loop through each species and plot regression\n",
    "for i, species in enumerate(unique_species):\n",
    "    df_species = subset_pandas[subset_pandas[\"taxaname\"] == species][[\"parameter_value\", \"Temperature\"]].dropna()\n",
    "\n",
    "    # Ensure enough data points for regression\n",
    "    if len(df_species) < 2:\n",
    "        continue  # Skip species with insufficient data\n",
    "\n",
    "    # Fit Linear Regression\n",
    "    X = sm.add_constant(df_species[\"Temperature\"])\n",
    "    y = df_species[\"parameter_value\"]\n",
    "    model = sm.OLS(y, X).fit()\n",
    "\n",
    "    # Plot scatter + regression line\n",
    "    sns.regplot(x=df_species[\"Temperature\"], y=df_species[\"parameter_value\"], ax=axes[i], \n",
    "                scatter_kws={\"alpha\": 0.5}, line_kws={\"color\": \"red\"})\n",
    "    \n",
    "    # Titles and labels\n",
    "    axes[i].set_title(f\"{species}\")\n",
    "    axes[i].set_xlabel(\"Temperature\")\n",
    "    axes[i].set_ylabel(\"Abundance (parameter_value)\")\n",
    "\n",
    "#  Adjust layout\n",
    "plt.tight_layout()\n",
    "plt.show()\n"
   ]
  },
  {
   "cell_type": "code",
   "execution_count": null,
   "id": "d757158f-92ee-4255-bcd6-96d99bfa71eb",
   "metadata": {},
   "outputs": [],
   "source": []
  }
 ],
 "metadata": {
  "kernelspec": {
   "display_name": "“d2s2”",
   "language": "python",
   "name": "d2s2"
  },
  "language_info": {
   "codemirror_mode": {
    "name": "ipython",
    "version": 3
   },
   "file_extension": ".py",
   "mimetype": "text/x-python",
   "name": "python",
   "nbconvert_exporter": "python",
   "pygments_lexer": "ipython3",
   "version": "3.11.3"
  }
 },
 "nbformat": 4,
 "nbformat_minor": 5
}
