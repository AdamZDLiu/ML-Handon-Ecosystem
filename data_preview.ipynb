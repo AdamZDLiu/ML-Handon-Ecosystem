{
 "cells": [
  {
   "cell_type": "markdown",
   "metadata": {},
   "source": [
    "## Data Preview"
   ]
  },
  {
   "cell_type": "code",
   "execution_count": 15,
   "metadata": {},
   "outputs": [],
   "source": [
    "import pandas as pd\n",
    "import numpy as np"
   ]
  },
  {
   "cell_type": "code",
   "execution_count": 16,
   "metadata": {},
   "outputs": [],
   "source": [
    "data_dir = './data/'"
   ]
  },
  {
   "cell_type": "code",
   "execution_count": 25,
   "metadata": {},
   "outputs": [],
   "source": [
    "df_fish = pd.read_csv(data_dir + 'FISH.csv')\n",
    "df_water = pd.read_csv(data_dir + 'WATER.csv')\n",
    "df_phy = pd.read_csv(data_dir + 'PHYTOPLANKTON.csv')\n",
    "df_meta = pd.read_csv(data_dir + 'METADATA.csv')"
   ]
  },
  {
   "cell_type": "code",
   "execution_count": 18,
   "metadata": {},
   "outputs": [
    {
     "name": "stdout",
     "output_type": "stream",
     "text": [
      "<class 'pandas.core.frame.DataFrame'>\n",
      "RangeIndex: 3629 entries, 0 to 3628\n",
      "Data columns (total 12 columns):\n",
      " #   Column                  Non-Null Count  Dtype  \n",
      "---  ------                  --------------  -----  \n",
      " 0   datecollected           3629 non-null   object \n",
      " 1   siteid                  3629 non-null   object \n",
      " 2   sampleid                3629 non-null   object \n",
      " 3   basisofrecord           3629 non-null   object \n",
      " 4   minimumdepthinmeters    3629 non-null   float64\n",
      " 5   maximumdepthinmeters    3629 non-null   float64\n",
      " 6   taxaname                3629 non-null   object \n",
      " 7   taxanameid              3629 non-null   int64  \n",
      " 8   samplingeffort          3629 non-null   object \n",
      " 9   parameter               3629 non-null   object \n",
      " 10  parameter_value         3629 non-null   float64\n",
      " 11  parameter_standardunit  3629 non-null   object \n",
      "dtypes: float64(3), int64(1), object(8)\n",
      "memory usage: 340.3+ KB\n"
     ]
    }
   ],
   "source": [
    "df_fish.info(verbose=True)"
   ]
  },
  {
   "cell_type": "code",
   "execution_count": 19,
   "metadata": {},
   "outputs": [
    {
     "name": "stdout",
     "output_type": "stream",
     "text": [
      "<class 'pandas.core.frame.DataFrame'>\n",
      "RangeIndex: 271925 entries, 0 to 271924\n",
      "Data columns (total 10 columns):\n",
      " #   Column                  Non-Null Count   Dtype  \n",
      "---  ------                  --------------   -----  \n",
      " 0   datecollected           271925 non-null  object \n",
      " 1   siteid                  271925 non-null  object \n",
      " 2   sampleid                271925 non-null  object \n",
      " 3   basisofrecord           271925 non-null  object \n",
      " 4   minimumdepthinmeters    271925 non-null  int64  \n",
      " 5   maximumdepthinmeters    271925 non-null  float64\n",
      " 6   samplingeffort          271925 non-null  object \n",
      " 7   parameter               271925 non-null  object \n",
      " 8   parameter_value         271925 non-null  object \n",
      " 9   parameter_standardunit  254111 non-null  object \n",
      "dtypes: float64(1), int64(1), object(8)\n",
      "memory usage: 20.7+ MB\n"
     ]
    }
   ],
   "source": [
    "df_water.info()"
   ]
  },
  {
   "cell_type": "code",
   "execution_count": 23,
   "metadata": {},
   "outputs": [
    {
     "data": {
      "text/html": [
       "<div>\n",
       "<style scoped>\n",
       "    .dataframe tbody tr th:only-of-type {\n",
       "        vertical-align: middle;\n",
       "    }\n",
       "\n",
       "    .dataframe tbody tr th {\n",
       "        vertical-align: top;\n",
       "    }\n",
       "\n",
       "    .dataframe thead th {\n",
       "        text-align: right;\n",
       "    }\n",
       "</style>\n",
       "<table border=\"1\" class=\"dataframe\">\n",
       "  <thead>\n",
       "    <tr style=\"text-align: right;\">\n",
       "      <th></th>\n",
       "      <th>datecollected</th>\n",
       "      <th>siteid</th>\n",
       "      <th>sampleid</th>\n",
       "      <th>basisofrecord</th>\n",
       "      <th>minimumdepthinmeters</th>\n",
       "      <th>maximumdepthinmeters</th>\n",
       "      <th>taxaname</th>\n",
       "      <th>taxanameid</th>\n",
       "      <th>samplingeffort</th>\n",
       "      <th>parameter</th>\n",
       "      <th>parameter_value</th>\n",
       "      <th>parameter_standardunit</th>\n",
       "    </tr>\n",
       "  </thead>\n",
       "  <tbody>\n",
       "    <tr>\n",
       "      <th>0</th>\n",
       "      <td>2008-09-26</td>\n",
       "      <td>AAE</td>\n",
       "      <td>AAE_20080926</td>\n",
       "      <td>HumanObservation</td>\n",
       "      <td>0.0</td>\n",
       "      <td>4.0</td>\n",
       "      <td>Palaemon sp.</td>\n",
       "      <td>107032</td>\n",
       "      <td>Three hauls, 1.5 m wide beam trawl, net of 10 ...</td>\n",
       "      <td>Abundance</td>\n",
       "      <td>1.0</td>\n",
       "      <td>ind</td>\n",
       "    </tr>\n",
       "    <tr>\n",
       "      <th>1</th>\n",
       "      <td>2017-10-11</td>\n",
       "      <td>AAE</td>\n",
       "      <td>AAE_20171011</td>\n",
       "      <td>HumanObservation</td>\n",
       "      <td>0.0</td>\n",
       "      <td>4.0</td>\n",
       "      <td>Palaemon sp.</td>\n",
       "      <td>107032</td>\n",
       "      <td>Three hauls, 1.5 m wide beam trawl, net of 10 ...</td>\n",
       "      <td>Abundance</td>\n",
       "      <td>2.0</td>\n",
       "      <td>Ind</td>\n",
       "    </tr>\n",
       "    <tr>\n",
       "      <th>2</th>\n",
       "      <td>2020-10-08</td>\n",
       "      <td>AAE</td>\n",
       "      <td>AAE_20201008</td>\n",
       "      <td>HumanObservation</td>\n",
       "      <td>0.0</td>\n",
       "      <td>4.0</td>\n",
       "      <td>Palaemon sp.</td>\n",
       "      <td>107032</td>\n",
       "      <td>Three hauls, 1.5 m wide beam trawl, net of 10 ...</td>\n",
       "      <td>Abundance</td>\n",
       "      <td>3.0</td>\n",
       "      <td>Ind</td>\n",
       "    </tr>\n",
       "    <tr>\n",
       "      <th>3</th>\n",
       "      <td>2002-09-19</td>\n",
       "      <td>AAE</td>\n",
       "      <td>AAE_20020919</td>\n",
       "      <td>HumanObservation</td>\n",
       "      <td>0.0</td>\n",
       "      <td>4.0</td>\n",
       "      <td>Crangon crangon</td>\n",
       "      <td>107552</td>\n",
       "      <td>Three hauls, 1.5 m wide beam trawl, net of 10 ...</td>\n",
       "      <td>Abundance</td>\n",
       "      <td>2.0</td>\n",
       "      <td>ind</td>\n",
       "    </tr>\n",
       "    <tr>\n",
       "      <th>4</th>\n",
       "      <td>2017-10-11</td>\n",
       "      <td>AAE</td>\n",
       "      <td>AAE_20171011</td>\n",
       "      <td>HumanObservation</td>\n",
       "      <td>0.0</td>\n",
       "      <td>4.0</td>\n",
       "      <td>Crangon crangon</td>\n",
       "      <td>107552</td>\n",
       "      <td>Three hauls, 1.5 m wide beam trawl, net of 10 ...</td>\n",
       "      <td>Abundance</td>\n",
       "      <td>4.0</td>\n",
       "      <td>Ind</td>\n",
       "    </tr>\n",
       "  </tbody>\n",
       "</table>\n",
       "</div>"
      ],
      "text/plain": [
       "  datecollected siteid      sampleid     basisofrecord  minimumdepthinmeters  \\\n",
       "0    2008-09-26    AAE  AAE_20080926  HumanObservation                   0.0   \n",
       "1    2017-10-11    AAE  AAE_20171011  HumanObservation                   0.0   \n",
       "2    2020-10-08    AAE  AAE_20201008  HumanObservation                   0.0   \n",
       "3    2002-09-19    AAE  AAE_20020919  HumanObservation                   0.0   \n",
       "4    2017-10-11    AAE  AAE_20171011  HumanObservation                   0.0   \n",
       "\n",
       "   maximumdepthinmeters         taxaname  taxanameid  \\\n",
       "0                   4.0     Palaemon sp.      107032   \n",
       "1                   4.0     Palaemon sp.      107032   \n",
       "2                   4.0     Palaemon sp.      107032   \n",
       "3                   4.0  Crangon crangon      107552   \n",
       "4                   4.0  Crangon crangon      107552   \n",
       "\n",
       "                                      samplingeffort  parameter  \\\n",
       "0  Three hauls, 1.5 m wide beam trawl, net of 10 ...  Abundance   \n",
       "1  Three hauls, 1.5 m wide beam trawl, net of 10 ...  Abundance   \n",
       "2  Three hauls, 1.5 m wide beam trawl, net of 10 ...  Abundance   \n",
       "3  Three hauls, 1.5 m wide beam trawl, net of 10 ...  Abundance   \n",
       "4  Three hauls, 1.5 m wide beam trawl, net of 10 ...  Abundance   \n",
       "\n",
       "   parameter_value parameter_standardunit  \n",
       "0              1.0                    ind  \n",
       "1              2.0                    Ind  \n",
       "2              3.0                    Ind  \n",
       "3              2.0                    ind  \n",
       "4              4.0                    Ind  "
      ]
     },
     "execution_count": 23,
     "metadata": {},
     "output_type": "execute_result"
    }
   ],
   "source": [
    "df_fish.head(5)"
   ]
  },
  {
   "cell_type": "code",
   "execution_count": 28,
   "metadata": {},
   "outputs": [
    {
     "data": {
      "text/html": [
       "<div>\n",
       "<style scoped>\n",
       "    .dataframe tbody tr th:only-of-type {\n",
       "        vertical-align: middle;\n",
       "    }\n",
       "\n",
       "    .dataframe tbody tr th {\n",
       "        vertical-align: top;\n",
       "    }\n",
       "\n",
       "    .dataframe thead th {\n",
       "        text-align: right;\n",
       "    }\n",
       "</style>\n",
       "<table border=\"1\" class=\"dataframe\">\n",
       "  <thead>\n",
       "    <tr style=\"text-align: right;\">\n",
       "      <th></th>\n",
       "      <th>taxagroup</th>\n",
       "      <th>siteid</th>\n",
       "      <th>sitename</th>\n",
       "      <th>country</th>\n",
       "      <th>seaname</th>\n",
       "      <th>decimallatitude</th>\n",
       "      <th>decimallongitude</th>\n",
       "      <th>startyearcollected</th>\n",
       "      <th>endyearcollected</th>\n",
       "      <th>samplingprotocol</th>\n",
       "      <th>name1</th>\n",
       "      <th>mail1</th>\n",
       "      <th>name2</th>\n",
       "      <th>mail2</th>\n",
       "      <th>name3</th>\n",
       "      <th>mail3</th>\n",
       "    </tr>\n",
       "  </thead>\n",
       "  <tbody>\n",
       "    <tr>\n",
       "      <th>0</th>\n",
       "      <td>Water</td>\n",
       "      <td>E-A10HS</td>\n",
       "      <td>Ondarroa (Embarcadero). High Tide. Surface</td>\n",
       "      <td>ES</td>\n",
       "      <td>Bay of Biscay</td>\n",
       "      <td>43.319883</td>\n",
       "      <td>-2.420973</td>\n",
       "      <td>1995</td>\n",
       "      <td>2023</td>\n",
       "      <td>https://www.uragentzia.euskadi.eus/informacion...</td>\n",
       "      <td>Joana Larreta</td>\n",
       "      <td>jlarreta@azti.es</td>\n",
       "      <td>Javier Franco</td>\n",
       "      <td>jafranco@azti.es</td>\n",
       "      <td>Izaskun Zorita</td>\n",
       "      <td>izorita@azti.es</td>\n",
       "    </tr>\n",
       "    <tr>\n",
       "      <th>1</th>\n",
       "      <td>Water</td>\n",
       "      <td>E-A5HS</td>\n",
       "      <td>Ondarroa (Errenteria). High Tide. Surface</td>\n",
       "      <td>ES</td>\n",
       "      <td>Bay of Biscay</td>\n",
       "      <td>43.322074</td>\n",
       "      <td>-2.443325</td>\n",
       "      <td>2002</td>\n",
       "      <td>2023</td>\n",
       "      <td>https://www.uragentzia.euskadi.eus/informacion...</td>\n",
       "      <td>Joana Larreta</td>\n",
       "      <td>jlarreta@azti.es</td>\n",
       "      <td>Javier Franco</td>\n",
       "      <td>jafranco@azti.es</td>\n",
       "      <td>Izaskun Zorita</td>\n",
       "      <td>izorita@azti.es</td>\n",
       "    </tr>\n",
       "    <tr>\n",
       "      <th>2</th>\n",
       "      <td>Water</td>\n",
       "      <td>E-B10HS</td>\n",
       "      <td>Plentzia (Puerto). High Tide. Surface</td>\n",
       "      <td>ES</td>\n",
       "      <td>Bay of Biscay</td>\n",
       "      <td>43.407626</td>\n",
       "      <td>-2.946287</td>\n",
       "      <td>1995</td>\n",
       "      <td>2023</td>\n",
       "      <td>https://www.uragentzia.euskadi.eus/informacion...</td>\n",
       "      <td>Joana Larreta</td>\n",
       "      <td>jlarreta@azti.es</td>\n",
       "      <td>Javier Franco</td>\n",
       "      <td>jafranco@azti.es</td>\n",
       "      <td>Izaskun Zorita</td>\n",
       "      <td>izorita@azti.es</td>\n",
       "    </tr>\n",
       "    <tr>\n",
       "      <th>3</th>\n",
       "      <td>Water</td>\n",
       "      <td>E-B5HS</td>\n",
       "      <td>Plentzia (Abaniko). High Tide. Surface</td>\n",
       "      <td>ES</td>\n",
       "      <td>Bay of Biscay</td>\n",
       "      <td>43.396268</td>\n",
       "      <td>-2.924107</td>\n",
       "      <td>2002</td>\n",
       "      <td>2023</td>\n",
       "      <td>https://www.uragentzia.euskadi.eus/informacion...</td>\n",
       "      <td>Joana Larreta</td>\n",
       "      <td>jlarreta@azti.es</td>\n",
       "      <td>Javier Franco</td>\n",
       "      <td>jafranco@azti.es</td>\n",
       "      <td>Izaskun Zorita</td>\n",
       "      <td>izorita@azti.es</td>\n",
       "    </tr>\n",
       "    <tr>\n",
       "      <th>4</th>\n",
       "      <td>Water</td>\n",
       "      <td>E-B7HS</td>\n",
       "      <td>Plentzia (Campo de fútbol). High Tide. Surface</td>\n",
       "      <td>ES</td>\n",
       "      <td>Bay of Biscay</td>\n",
       "      <td>43.397900</td>\n",
       "      <td>-2.944209</td>\n",
       "      <td>2002</td>\n",
       "      <td>2023</td>\n",
       "      <td>https://www.uragentzia.euskadi.eus/informacion...</td>\n",
       "      <td>Joana Larreta</td>\n",
       "      <td>jlarreta@azti.es</td>\n",
       "      <td>Javier Franco</td>\n",
       "      <td>jafranco@azti.es</td>\n",
       "      <td>Izaskun Zorita</td>\n",
       "      <td>izorita@azti.es</td>\n",
       "    </tr>\n",
       "  </tbody>\n",
       "</table>\n",
       "</div>"
      ],
      "text/plain": [
       "  taxagroup   siteid                                        sitename country  \\\n",
       "0     Water  E-A10HS      Ondarroa (Embarcadero). High Tide. Surface      ES   \n",
       "1     Water   E-A5HS       Ondarroa (Errenteria). High Tide. Surface      ES   \n",
       "2     Water  E-B10HS           Plentzia (Puerto). High Tide. Surface      ES   \n",
       "3     Water   E-B5HS          Plentzia (Abaniko). High Tide. Surface      ES   \n",
       "4     Water   E-B7HS  Plentzia (Campo de fútbol). High Tide. Surface      ES   \n",
       "\n",
       "         seaname  decimallatitude  decimallongitude  startyearcollected  \\\n",
       "0  Bay of Biscay        43.319883         -2.420973                1995   \n",
       "1  Bay of Biscay        43.322074         -2.443325                2002   \n",
       "2  Bay of Biscay        43.407626         -2.946287                1995   \n",
       "3  Bay of Biscay        43.396268         -2.924107                2002   \n",
       "4  Bay of Biscay        43.397900         -2.944209                2002   \n",
       "\n",
       "   endyearcollected                                   samplingprotocol  \\\n",
       "0              2023  https://www.uragentzia.euskadi.eus/informacion...   \n",
       "1              2023  https://www.uragentzia.euskadi.eus/informacion...   \n",
       "2              2023  https://www.uragentzia.euskadi.eus/informacion...   \n",
       "3              2023  https://www.uragentzia.euskadi.eus/informacion...   \n",
       "4              2023  https://www.uragentzia.euskadi.eus/informacion...   \n",
       "\n",
       "           name1             mail1          name2             mail2  \\\n",
       "0  Joana Larreta  jlarreta@azti.es  Javier Franco  jafranco@azti.es   \n",
       "1  Joana Larreta  jlarreta@azti.es  Javier Franco  jafranco@azti.es   \n",
       "2  Joana Larreta  jlarreta@azti.es  Javier Franco  jafranco@azti.es   \n",
       "3  Joana Larreta  jlarreta@azti.es  Javier Franco  jafranco@azti.es   \n",
       "4  Joana Larreta  jlarreta@azti.es  Javier Franco  jafranco@azti.es   \n",
       "\n",
       "            name3            mail3  \n",
       "0  Izaskun Zorita  izorita@azti.es  \n",
       "1  Izaskun Zorita  izorita@azti.es  \n",
       "2  Izaskun Zorita  izorita@azti.es  \n",
       "3  Izaskun Zorita  izorita@azti.es  \n",
       "4  Izaskun Zorita  izorita@azti.es  "
      ]
     },
     "execution_count": 28,
     "metadata": {},
     "output_type": "execute_result"
    }
   ],
   "source": [
    "df_meta.head(5)"
   ]
  },
  {
   "cell_type": "code",
   "execution_count": 27,
   "metadata": {},
   "outputs": [
    {
     "data": {
      "text/plain": [
       "array(['Water', 'Sediment', 'Biota', 'Phytoplankton', 'Macroalgae',\n",
       "       'Invertebrates', 'Fish'], dtype=object)"
      ]
     },
     "execution_count": 27,
     "metadata": {},
     "output_type": "execute_result"
    }
   ],
   "source": [
    "df_meta['taxagroup'].unique()"
   ]
  },
  {
   "cell_type": "code",
   "execution_count": 24,
   "metadata": {},
   "outputs": [
    {
     "data": {
      "text/plain": [
       "array(['1995-02-27', '1995-05-30', '1995-09-06', ..., '2022-11-14',\n",
       "       '2023-03-15', '2023-12-04'], shape=(1620,), dtype=object)"
      ]
     },
     "execution_count": 24,
     "metadata": {},
     "output_type": "execute_result"
    }
   ],
   "source": [
    "df_water['datecollected'].unique()"
   ]
  },
  {
   "cell_type": "markdown",
   "metadata": {},
   "source": [
    "### Combine the datasets"
   ]
  },
  {
   "cell_type": "code",
   "execution_count": 29,
   "metadata": {},
   "outputs": [],
   "source": [
    "#### First link the site information with the water data\n",
    "df_meta_water = df_meta[df_meta['taxagroup']=='Water'].reset_index(drop=True)\n",
    "df_water_site = pd.merge(df_water, df_meta, how='left', on='siteid')"
   ]
  },
  {
   "cell_type": "code",
   "execution_count": 32,
   "metadata": {},
   "outputs": [
    {
     "name": "stdout",
     "output_type": "stream",
     "text": [
      "<class 'pandas.core.frame.DataFrame'>\n",
      "RangeIndex: 271925 entries, 0 to 271924\n",
      "Data columns (total 25 columns):\n",
      " #   Column                  Non-Null Count   Dtype  \n",
      "---  ------                  --------------   -----  \n",
      " 0   datecollected           271925 non-null  object \n",
      " 1   siteid                  271925 non-null  object \n",
      " 2   sampleid                271925 non-null  object \n",
      " 3   basisofrecord           271925 non-null  object \n",
      " 4   minimumdepthinmeters    271925 non-null  int64  \n",
      " 5   maximumdepthinmeters    271925 non-null  float64\n",
      " 6   samplingeffort          271925 non-null  object \n",
      " 7   parameter               271925 non-null  object \n",
      " 8   parameter_value         271925 non-null  object \n",
      " 9   parameter_standardunit  254111 non-null  object \n",
      " 10  taxagroup               271925 non-null  object \n",
      " 11  sitename                271925 non-null  object \n",
      " 12  country                 271925 non-null  object \n",
      " 13  seaname                 271925 non-null  object \n",
      " 14  decimallatitude         271925 non-null  float64\n",
      " 15  decimallongitude        271925 non-null  float64\n",
      " 16  startyearcollected      271925 non-null  int64  \n",
      " 17  endyearcollected        271925 non-null  int64  \n",
      " 18  samplingprotocol        271925 non-null  object \n",
      " 19  name1                   271925 non-null  object \n",
      " 20  mail1                   271925 non-null  object \n",
      " 21  name2                   271925 non-null  object \n",
      " 22  mail2                   271925 non-null  object \n",
      " 23  name3                   271925 non-null  object \n",
      " 24  mail3                   271925 non-null  object \n",
      "dtypes: float64(3), int64(3), object(19)\n",
      "memory usage: 51.9+ MB\n"
     ]
    }
   ],
   "source": [
    "df_water_site.info()"
   ]
  },
  {
   "cell_type": "code",
   "execution_count": 39,
   "metadata": {},
   "outputs": [],
   "source": [
    "df_water_site['datecollected'] = pd.to_datetime(df_water_site['datecollected'])\n",
    "df_water_site = df_water_site.sort_values(['siteid', 'datecollected']).reset_index(drop=True)\n",
    "df_fish['datecollected'] = pd.to_datetime(df_fish['datecollected'])\n",
    "df_fish = df_fish.sort_values(['siteid', 'datecollected']).reset_index(drop=True)"
   ]
  },
  {
   "cell_type": "code",
   "execution_count": 40,
   "metadata": {},
   "outputs": [],
   "source": [
    "df_water_site['water_date'] = df_water_site['datecollected']\n",
    "df_fish['fish_date'] = df_fish['datecollected']"
   ]
  },
  {
   "cell_type": "code",
   "execution_count": 41,
   "metadata": {},
   "outputs": [
    {
     "ename": "ValueError",
     "evalue": "left keys must be sorted",
     "output_type": "error",
     "traceback": [
      "\u001b[0;31m---------------------------------------------------------------------------\u001b[0m",
      "\u001b[0;31mValueError\u001b[0m                                Traceback (most recent call last)",
      "Cell \u001b[0;32mIn[41], line 1\u001b[0m\n\u001b[0;32m----> 1\u001b[0m df_water_fish \u001b[38;5;241m=\u001b[39m \u001b[43mpd\u001b[49m\u001b[38;5;241;43m.\u001b[39;49m\u001b[43mmerge_asof\u001b[49m\u001b[43m(\u001b[49m\u001b[43mdf_fish\u001b[49m\u001b[43m,\u001b[49m\u001b[43m \u001b[49m\u001b[43mdf_water_site\u001b[49m\u001b[43m,\u001b[49m\u001b[43m \u001b[49m\u001b[43mon\u001b[49m\u001b[38;5;241;43m=\u001b[39;49m\u001b[43m[\u001b[49m\u001b[38;5;124;43m'\u001b[39;49m\u001b[38;5;124;43mdatecollected\u001b[39;49m\u001b[38;5;124;43m'\u001b[39;49m\u001b[43m]\u001b[49m\u001b[43m,\u001b[49m\u001b[43m \u001b[49m\u001b[43mby\u001b[49m\u001b[38;5;241;43m=\u001b[39;49m\u001b[38;5;124;43m'\u001b[39;49m\u001b[38;5;124;43msiteid\u001b[39;49m\u001b[38;5;124;43m'\u001b[39;49m\u001b[43m,\u001b[49m\u001b[43m \u001b[49m\u001b[43mdirection\u001b[49m\u001b[38;5;241;43m=\u001b[39;49m\u001b[38;5;124;43m'\u001b[39;49m\u001b[38;5;124;43mnearest\u001b[39;49m\u001b[38;5;124;43m'\u001b[39;49m\u001b[43m)\u001b[49m\n",
      "File \u001b[0;32m~/.local/lib/python3.12/site-packages/pandas/core/reshape/merge.py:708\u001b[0m, in \u001b[0;36mmerge_asof\u001b[0;34m(left, right, on, left_on, right_on, left_index, right_index, by, left_by, right_by, suffixes, tolerance, allow_exact_matches, direction)\u001b[0m\n\u001b[1;32m    456\u001b[0m \u001b[38;5;250m\u001b[39m\u001b[38;5;124;03m\"\"\"\u001b[39;00m\n\u001b[1;32m    457\u001b[0m \u001b[38;5;124;03mPerform a merge by key distance.\u001b[39;00m\n\u001b[1;32m    458\u001b[0m \n\u001b[0;32m   (...)\u001b[0m\n\u001b[1;32m    689\u001b[0m \u001b[38;5;124;03m4 2016-05-25 13:30:00.048   AAPL   98.00       100     NaN     NaN\u001b[39;00m\n\u001b[1;32m    690\u001b[0m \u001b[38;5;124;03m\"\"\"\u001b[39;00m\n\u001b[1;32m    691\u001b[0m op \u001b[38;5;241m=\u001b[39m _AsOfMerge(\n\u001b[1;32m    692\u001b[0m     left,\n\u001b[1;32m    693\u001b[0m     right,\n\u001b[0;32m   (...)\u001b[0m\n\u001b[1;32m    706\u001b[0m     direction\u001b[38;5;241m=\u001b[39mdirection,\n\u001b[1;32m    707\u001b[0m )\n\u001b[0;32m--> 708\u001b[0m \u001b[38;5;28;01mreturn\u001b[39;00m \u001b[43mop\u001b[49m\u001b[38;5;241;43m.\u001b[39;49m\u001b[43mget_result\u001b[49m\u001b[43m(\u001b[49m\u001b[43m)\u001b[49m\n",
      "File \u001b[0;32m~/.local/lib/python3.12/site-packages/pandas/core/reshape/merge.py:1926\u001b[0m, in \u001b[0;36m_OrderedMerge.get_result\u001b[0;34m(self, copy)\u001b[0m\n\u001b[1;32m   1925\u001b[0m \u001b[38;5;28;01mdef\u001b[39;00m \u001b[38;5;21mget_result\u001b[39m(\u001b[38;5;28mself\u001b[39m, copy: \u001b[38;5;28mbool\u001b[39m \u001b[38;5;241m|\u001b[39m \u001b[38;5;28;01mNone\u001b[39;00m \u001b[38;5;241m=\u001b[39m \u001b[38;5;28;01mTrue\u001b[39;00m) \u001b[38;5;241m-\u001b[39m\u001b[38;5;241m>\u001b[39m DataFrame:\n\u001b[0;32m-> 1926\u001b[0m     join_index, left_indexer, right_indexer \u001b[38;5;241m=\u001b[39m \u001b[38;5;28;43mself\u001b[39;49m\u001b[38;5;241;43m.\u001b[39;49m\u001b[43m_get_join_info\u001b[49m\u001b[43m(\u001b[49m\u001b[43m)\u001b[49m\n\u001b[1;32m   1928\u001b[0m     left_join_indexer: npt\u001b[38;5;241m.\u001b[39mNDArray[np\u001b[38;5;241m.\u001b[39mintp] \u001b[38;5;241m|\u001b[39m \u001b[38;5;28;01mNone\u001b[39;00m\n\u001b[1;32m   1929\u001b[0m     right_join_indexer: npt\u001b[38;5;241m.\u001b[39mNDArray[np\u001b[38;5;241m.\u001b[39mintp] \u001b[38;5;241m|\u001b[39m \u001b[38;5;28;01mNone\u001b[39;00m\n",
      "File \u001b[0;32m~/.local/lib/python3.12/site-packages/pandas/core/reshape/merge.py:1151\u001b[0m, in \u001b[0;36m_MergeOperation._get_join_info\u001b[0;34m(self)\u001b[0m\n\u001b[1;32m   1147\u001b[0m     join_index, right_indexer, left_indexer \u001b[38;5;241m=\u001b[39m _left_join_on_index(\n\u001b[1;32m   1148\u001b[0m         right_ax, left_ax, \u001b[38;5;28mself\u001b[39m\u001b[38;5;241m.\u001b[39mright_join_keys, sort\u001b[38;5;241m=\u001b[39m\u001b[38;5;28mself\u001b[39m\u001b[38;5;241m.\u001b[39msort\n\u001b[1;32m   1149\u001b[0m     )\n\u001b[1;32m   1150\u001b[0m \u001b[38;5;28;01melse\u001b[39;00m:\n\u001b[0;32m-> 1151\u001b[0m     (left_indexer, right_indexer) \u001b[38;5;241m=\u001b[39m \u001b[38;5;28;43mself\u001b[39;49m\u001b[38;5;241;43m.\u001b[39;49m\u001b[43m_get_join_indexers\u001b[49m\u001b[43m(\u001b[49m\u001b[43m)\u001b[49m\n\u001b[1;32m   1153\u001b[0m     \u001b[38;5;28;01mif\u001b[39;00m \u001b[38;5;28mself\u001b[39m\u001b[38;5;241m.\u001b[39mright_index:\n\u001b[1;32m   1154\u001b[0m         \u001b[38;5;28;01mif\u001b[39;00m \u001b[38;5;28mlen\u001b[39m(\u001b[38;5;28mself\u001b[39m\u001b[38;5;241m.\u001b[39mleft) \u001b[38;5;241m>\u001b[39m \u001b[38;5;241m0\u001b[39m:\n",
      "File \u001b[0;32m~/.local/lib/python3.12/site-packages/pandas/core/reshape/merge.py:2238\u001b[0m, in \u001b[0;36m_AsOfMerge._get_join_indexers\u001b[0;34m(self)\u001b[0m\n\u001b[1;32m   2235\u001b[0m         tolerance \u001b[38;5;241m=\u001b[39m tolerance\u001b[38;5;241m.\u001b[39m_value\n\u001b[1;32m   2237\u001b[0m \u001b[38;5;66;03m# initial type conversion as needed\u001b[39;00m\n\u001b[0;32m-> 2238\u001b[0m left_values \u001b[38;5;241m=\u001b[39m \u001b[38;5;28;43mself\u001b[39;49m\u001b[38;5;241;43m.\u001b[39;49m\u001b[43m_convert_values_for_libjoin\u001b[49m\u001b[43m(\u001b[49m\u001b[43mleft_values\u001b[49m\u001b[43m,\u001b[49m\u001b[43m \u001b[49m\u001b[38;5;124;43m\"\u001b[39;49m\u001b[38;5;124;43mleft\u001b[39;49m\u001b[38;5;124;43m\"\u001b[39;49m\u001b[43m)\u001b[49m\n\u001b[1;32m   2239\u001b[0m right_values \u001b[38;5;241m=\u001b[39m \u001b[38;5;28mself\u001b[39m\u001b[38;5;241m.\u001b[39m_convert_values_for_libjoin(right_values, \u001b[38;5;124m\"\u001b[39m\u001b[38;5;124mright\u001b[39m\u001b[38;5;124m\"\u001b[39m)\n\u001b[1;32m   2241\u001b[0m \u001b[38;5;66;03m# a \"by\" parameter requires special handling\u001b[39;00m\n",
      "File \u001b[0;32m~/.local/lib/python3.12/site-packages/pandas/core/reshape/merge.py:2182\u001b[0m, in \u001b[0;36m_AsOfMerge._convert_values_for_libjoin\u001b[0;34m(self, values, side)\u001b[0m\n\u001b[1;32m   2180\u001b[0m     \u001b[38;5;28;01mif\u001b[39;00m isna(values)\u001b[38;5;241m.\u001b[39many():\n\u001b[1;32m   2181\u001b[0m         \u001b[38;5;28;01mraise\u001b[39;00m \u001b[38;5;167;01mValueError\u001b[39;00m(\u001b[38;5;124mf\u001b[39m\u001b[38;5;124m\"\u001b[39m\u001b[38;5;124mMerge keys contain null values on \u001b[39m\u001b[38;5;132;01m{\u001b[39;00mside\u001b[38;5;132;01m}\u001b[39;00m\u001b[38;5;124m side\u001b[39m\u001b[38;5;124m\"\u001b[39m)\n\u001b[0;32m-> 2182\u001b[0m     \u001b[38;5;28;01mraise\u001b[39;00m \u001b[38;5;167;01mValueError\u001b[39;00m(\u001b[38;5;124mf\u001b[39m\u001b[38;5;124m\"\u001b[39m\u001b[38;5;132;01m{\u001b[39;00mside\u001b[38;5;132;01m}\u001b[39;00m\u001b[38;5;124m keys must be sorted\u001b[39m\u001b[38;5;124m\"\u001b[39m)\n\u001b[1;32m   2184\u001b[0m \u001b[38;5;28;01mif\u001b[39;00m \u001b[38;5;28misinstance\u001b[39m(values, ArrowExtensionArray):\n\u001b[1;32m   2185\u001b[0m     values \u001b[38;5;241m=\u001b[39m values\u001b[38;5;241m.\u001b[39m_maybe_convert_datelike_array()\n",
      "\u001b[0;31mValueError\u001b[0m: left keys must be sorted"
     ]
    }
   ],
   "source": [
    "df_water_fish = pd.merge_asof(df_fish, df_water_site, on=['datecollected'], by='siteid', direction='nearest')"
   ]
  },
  {
   "cell_type": "code",
   "execution_count": null,
   "metadata": {},
   "outputs": [],
   "source": []
  },
  {
   "cell_type": "code",
   "execution_count": 48,
   "metadata": {},
   "outputs": [],
   "source": [
    "df_fish['datecollected'] = pd.to_datetime(df_fish['datecollected'])\n",
    "df_water_site['datecollected'] = pd.to_datetime(df_water_site['datecollected'])\n",
    "\n",
    "# Sort the DataFrames by 'siteid' and 'datecollected'\n",
    "df_fish = df_fish.sort_values(['datecollected'])\n",
    "df_water_site = df_water_site.sort_values(['datecollected'])\n",
    "\n",
    "# Merge the DataFrames based on the nearest dates within each siteid group\n",
    "df_water_fish = pd.merge_asof(df_fish, df_water_site, on='datecollected', by='siteid', direction='nearest')"
   ]
  },
  {
   "cell_type": "code",
   "execution_count": 43,
   "metadata": {},
   "outputs": [
    {
     "name": "stdout",
     "output_type": "stream",
     "text": [
      "  datecollected siteid      sampleid     basisofrecord  minimumdepthinmeters  \\\n",
      "0    2002-09-19    AAE  AAE_20020919  HumanObservation                   0.0   \n",
      "1    2002-09-19    AAE  AAE_20020919  HumanObservation                   0.0   \n",
      "2    2002-09-19    AAE  AAE_20020919  HumanObservation                   0.0   \n",
      "3    2002-09-19    AAE  AAE_20020919  HumanObservation                   0.0   \n",
      "4    2002-09-19    AAE  AAE_20020919  HumanObservation                   0.0   \n",
      "\n",
      "   maximumdepthinmeters            taxaname  taxanameid  \\\n",
      "0                   4.0     Crangon crangon      107552   \n",
      "1                   4.0     Carcinus maenas      107381   \n",
      "2                   4.0        Gobius niger      126892   \n",
      "3                   4.0  Pomatoschistus sp.      125999   \n",
      "4                   4.0         Solea solea      127160   \n",
      "\n",
      "                                      samplingeffort  parameter  \\\n",
      "0  Three hauls, 1.5 m wide beam trawl, net of 10 ...  Abundance   \n",
      "1  Three hauls, 1.5 m wide beam trawl, net of 10 ...  Abundance   \n",
      "2  Three hauls, 1.5 m wide beam trawl, net of 10 ...  Abundance   \n",
      "3  Three hauls, 1.5 m wide beam trawl, net of 10 ...  Abundance   \n",
      "4  Three hauls, 1.5 m wide beam trawl, net of 10 ...  Abundance   \n",
      "\n",
      "   parameter_value parameter_standardunit  fish_date  \n",
      "0              2.0                    ind 2002-09-19  \n",
      "1             13.0                    ind 2002-09-19  \n",
      "2              1.0                    ind 2002-09-19  \n",
      "3             22.0                    ind 2002-09-19  \n",
      "4              2.0                    ind 2002-09-19  \n"
     ]
    }
   ],
   "source": [
    "print(df_fish.head())"
   ]
  },
  {
   "cell_type": "code",
   "execution_count": 45,
   "metadata": {},
   "outputs": [
    {
     "name": "stdout",
     "output_type": "stream",
     "text": [
      "<class 'pandas.core.frame.DataFrame'>\n",
      "RangeIndex: 271925 entries, 0 to 271924\n",
      "Data columns (total 26 columns):\n",
      " #   Column                  Non-Null Count   Dtype         \n",
      "---  ------                  --------------   -----         \n",
      " 0   datecollected           271925 non-null  datetime64[ns]\n",
      " 1   siteid                  271925 non-null  object        \n",
      " 2   sampleid                271925 non-null  object        \n",
      " 3   basisofrecord           271925 non-null  object        \n",
      " 4   minimumdepthinmeters    271925 non-null  int64         \n",
      " 5   maximumdepthinmeters    271925 non-null  float64       \n",
      " 6   samplingeffort          271925 non-null  object        \n",
      " 7   parameter               271925 non-null  object        \n",
      " 8   parameter_value         271925 non-null  object        \n",
      " 9   parameter_standardunit  254111 non-null  object        \n",
      " 10  taxagroup               271925 non-null  object        \n",
      " 11  sitename                271925 non-null  object        \n",
      " 12  country                 271925 non-null  object        \n",
      " 13  seaname                 271925 non-null  object        \n",
      " 14  decimallatitude         271925 non-null  float64       \n",
      " 15  decimallongitude        271925 non-null  float64       \n",
      " 16  startyearcollected      271925 non-null  int64         \n",
      " 17  endyearcollected        271925 non-null  int64         \n",
      " 18  samplingprotocol        271925 non-null  object        \n",
      " 19  name1                   271925 non-null  object        \n",
      " 20  mail1                   271925 non-null  object        \n",
      " 21  name2                   271925 non-null  object        \n",
      " 22  mail2                   271925 non-null  object        \n",
      " 23  name3                   271925 non-null  object        \n",
      " 24  mail3                   271925 non-null  object        \n",
      " 25  water_date              271925 non-null  datetime64[ns]\n",
      "dtypes: datetime64[ns](2), float64(3), int64(3), object(18)\n",
      "memory usage: 53.9+ MB\n"
     ]
    }
   ],
   "source": [
    "df_water_site.info()"
   ]
  },
  {
   "cell_type": "code",
   "execution_count": null,
   "metadata": {},
   "outputs": [],
   "source": []
  },
  {
   "cell_type": "code",
   "execution_count": 51,
   "metadata": {},
   "outputs": [
    {
     "name": "stdout",
     "output_type": "stream",
     "text": [
      "<class 'pandas.core.frame.DataFrame'>\n",
      "RangeIndex: 3629 entries, 0 to 3628\n",
      "Data columns (total 37 columns):\n",
      " #   Column                    Non-Null Count  Dtype         \n",
      "---  ------                    --------------  -----         \n",
      " 0   datecollected             3629 non-null   datetime64[ns]\n",
      " 1   siteid                    3629 non-null   object        \n",
      " 2   sampleid_x                3629 non-null   object        \n",
      " 3   basisofrecord_x           3629 non-null   object        \n",
      " 4   minimumdepthinmeters_x    3629 non-null   float64       \n",
      " 5   maximumdepthinmeters_x    3629 non-null   float64       \n",
      " 6   taxaname                  3629 non-null   object        \n",
      " 7   taxanameid                3629 non-null   int64         \n",
      " 8   samplingeffort_x          3629 non-null   object        \n",
      " 9   parameter_x               3629 non-null   object        \n",
      " 10  parameter_value_x         3629 non-null   float64       \n",
      " 11  parameter_standardunit_x  3629 non-null   object        \n",
      " 12  fish_date                 3629 non-null   datetime64[ns]\n",
      " 13  sampleid_y                0 non-null      object        \n",
      " 14  basisofrecord_y           0 non-null      object        \n",
      " 15  minimumdepthinmeters_y    0 non-null      float64       \n",
      " 16  maximumdepthinmeters_y    0 non-null      float64       \n",
      " 17  samplingeffort_y          0 non-null      object        \n",
      " 18  parameter_y               0 non-null      object        \n",
      " 19  parameter_value_y         0 non-null      object        \n",
      " 20  parameter_standardunit_y  0 non-null      object        \n",
      " 21  taxagroup                 0 non-null      object        \n",
      " 22  sitename                  0 non-null      object        \n",
      " 23  country                   0 non-null      object        \n",
      " 24  seaname                   0 non-null      object        \n",
      " 25  decimallatitude           0 non-null      float64       \n",
      " 26  decimallongitude          0 non-null      float64       \n",
      " 27  startyearcollected        0 non-null      float64       \n",
      " 28  endyearcollected          0 non-null      float64       \n",
      " 29  samplingprotocol          0 non-null      object        \n",
      " 30  name1                     0 non-null      object        \n",
      " 31  mail1                     0 non-null      object        \n",
      " 32  name2                     0 non-null      object        \n",
      " 33  mail2                     0 non-null      object        \n",
      " 34  name3                     0 non-null      object        \n",
      " 35  mail3                     0 non-null      object        \n",
      " 36  water_date                0 non-null      datetime64[ns]\n",
      "dtypes: datetime64[ns](3), float64(9), int64(1), object(24)\n",
      "memory usage: 1.0+ MB\n"
     ]
    }
   ],
   "source": [
    "df_water_fish.info()"
   ]
  }
 ],
 "metadata": {
  "kernelspec": {
   "display_name": "Python 3",
   "language": "python",
   "name": "python3"
  },
  "language_info": {
   "codemirror_mode": {
    "name": "ipython",
    "version": 3
   },
   "file_extension": ".py",
   "mimetype": "text/x-python",
   "name": "python",
   "nbconvert_exporter": "python",
   "pygments_lexer": "ipython3",
   "version": "3.12.1"
  }
 },
 "nbformat": 4,
 "nbformat_minor": 2
}
